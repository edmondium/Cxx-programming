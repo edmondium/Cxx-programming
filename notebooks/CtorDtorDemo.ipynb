{
 "cells": [
  {
   "cell_type": "markdown",
   "id": "1ea45c69",
   "metadata": {},
   "source": [
    "## Constructors\n",
    "\n",
    "Objects of `struct` types can be initialized using the `{` `}` initializer syntax specifying the components. However, in some situations, we may want different non-trivial kinds of initialization. Any kind of initialization can be performed for a class with any number of desired inputs. The initialization functions are called \"Constructors\" and they have the same name as the class. Every time an object comes into existence, it is implicitly or explicitly a call to one of these initialization functions or constructors.\n",
    "\n",
    "Similarly, every time an object runs out of scope and is to be removed from the program, a different \"destructor\" function is **automatically** called. Constructors are typically overloaded: there are many ways to create an object. The destructor for a class is unique."
   ]
  },
  {
   "cell_type": "markdown",
   "id": "5182c33c",
   "metadata": {},
   "source": [
    "### Demo with the Vbose class"
   ]
  },
  {
   "cell_type": "code",
   "execution_count": 1,
   "id": "227c3d3b",
   "metadata": {},
   "outputs": [
    {
     "data": {
      "text/plain": []
     },
     "execution_count": 1,
     "metadata": {},
     "output_type": "execute_result"
    }
   ],
   "source": [
    "#pragma cling add_include_path(\"/p/project/training2213/local/include\")"
   ]
  },
  {
   "cell_type": "code",
   "execution_count": 2,
   "id": "0fccfe95",
   "metadata": {},
   "outputs": [
    {
     "data": {
      "text/plain": []
     },
     "execution_count": 2,
     "metadata": {},
     "output_type": "execute_result"
    }
   ],
   "source": [
    "#include <iostream>\n",
    "#include <vector>\n",
    "#include \"Vbose.hh\""
   ]
  },
  {
   "cell_type": "markdown",
   "id": "8c50c3ed",
   "metadata": {},
   "source": [
    "In your course material, you will find, in the folder called `code`, a header called `Vbose.hh`. `Vbose` is a class where the special members like constructors, destructors are written in such a way that they emit messages when they are used. Calls to copy/move constructors and destructors usually happen silently behind the scenes. They follow strict rules about scopes, but usually we don't get to see them in action explicitly. The verbose versions of those functions in `Vbose` makes them visible. For instance..."
   ]
  },
  {
   "cell_type": "code",
   "execution_count": 3,
   "id": "5b1e7f56",
   "metadata": {},
   "outputs": [
    {
     "name": "stdout",
     "output_type": "stream",
     "text": [
      "About to create first Vbose object\n",
      "Constructor of object at 140640271797832, using string \"FIRST\"\n",
      "Now creating another Vbose object using copy construction syntax...\n",
      "Copy constructor of object at 140640271797744. Source for copy is at 140640271797832\n",
      "Creating an alias to the first object...\n",
      "Inside operator + ()\n",
      "Constructor of object at 140640271797704, using string \"FIRST+FIRST\"\n",
      "Destructor of object at 140640271797704 with data \"FIRST+FIRST\"\n",
      "Destructor of object at 140640271797744 with data \"FIRST\"\n",
      "Destructor of object at 140640271797832 with data \"FIRST\"\n"
     ]
    },
    {
     "data": {
      "text/plain": []
     },
     "execution_count": 3,
     "metadata": {},
     "output_type": "execute_result"
    }
   ],
   "source": [
    "{\n",
    "    std::cout << \"About to create first Vbose object\\n\";\n",
    "    Vbose one{\"FIRST\"};\n",
    "    std::cout << \"Now creating another Vbose object using copy construction syntax...\\n\";\n",
    "    auto two{one};\n",
    "    std::cout << \"Creating an alias to the first object...\\n\";\n",
    "    auto& three{one};\n",
    "    auto four{one + two};\n",
    "}"
   ]
  },
  {
   "cell_type": "markdown",
   "id": "a7d5930a",
   "metadata": {},
   "source": [
    "The construction of the variable `four` happens using what is known as Return Value Optimization (RVO) which obviates what would otherwise have been a move construction. However, there are other situations where move constructor is really automatically used...\n",
    "\n",
    "In the following, we have a pre-existing object for `four` instead of creating it newly directly from the result of the `+` operation. The object is old, so it can not be newly constructed using RVO. It is an assignment operation, taking a temporary value as input. What version of the assignment operator do you expect will be used? Run the following cell to see if your expectation is borne out!"
   ]
  },
  {
   "cell_type": "code",
   "execution_count": 6,
   "id": "37f9894b-1f64-46f2-9f8f-eb31d313d4a1",
   "metadata": {},
   "outputs": [
    {
     "name": "stdout",
     "output_type": "stream",
     "text": [
      "About to create first Vbose object\n",
      "Constructor of object at 140640271797832, using string \"FIRST\"\n",
      "Now creating another Vbose object using copy construction syntax...\n",
      "Copy constructor of object at 140640271797744. Source for copy is at 140640271797832\n",
      "Creating an alias to the first object...\n",
      "Constructor of object at 140640271797704, using string \"FOUR\"\n",
      "Inside operator + ()\n",
      "Constructor of object at 140640271797632, using string \"FIRST+FIRST\"\n",
      "Move assignment operator: LHS @ 140640271797704(\"FOUR\"), RHS @ 140640271797632(\"FIRST+FIRST\")\n",
      "Destructor of object at 140640271797632 with data \"FOUR\"\n",
      "Destructor of object at 140640271797704 with data \"FIRST+FIRST\"\n",
      "Destructor of object at 140640271797744 with data \"FIRST\"\n",
      "Destructor of object at 140640271797832 with data \"FIRST\"\n"
     ]
    },
    {
     "data": {
      "text/plain": []
     },
     "execution_count": 6,
     "metadata": {},
     "output_type": "execute_result"
    }
   ],
   "source": [
    "{\n",
    "    std::cout << \"About to create first Vbose object\\n\";\n",
    "    Vbose one{\"FIRST\"};\n",
    "    std::cout << \"Now creating another Vbose object using copy construction syntax...\\n\";\n",
    "    auto two{one};\n",
    "    std::cout << \"Creating an alias to the first object...\\n\";\n",
    "    auto& three{one};\n",
    "    Vbose four{\"FOUR\"};\n",
    "    four = one + two;\n",
    "}"
   ]
  },
  {
   "cell_type": "markdown",
   "id": "315cf900",
   "metadata": {},
   "source": [
    "`push_back` operations for `std::vector` cause sporadic calls to lots of copy/move operations."
   ]
  },
  {
   "cell_type": "code",
   "execution_count": 8,
   "id": "58f46887",
   "metadata": {},
   "outputs": [
    {
     "name": "stdout",
     "output_type": "stream",
     "text": [
      "Constructor of object at 140000934993456, using string \"FIRST\"\n",
      "Copy constructor of object at 140000320763856. Source for copy is at 140000934993456\n",
      "Copy constructor of object at 140000320443712. Source for copy is at 140000934993456\n",
      "Move constructor of object at 140000320443680. Source for move is at 140000320763856\n",
      "Destructor of object at 140000320763856 with data \"\"\n",
      "Copy constructor of object at 140000320763616. Source for copy is at 140000934993456\n",
      "Move constructor of object at 140000320763552. Source for move is at 140000320443680\n",
      "Destructor of object at 140000320443680 with data \"\"\n",
      "Move constructor of object at 140000320763584. Source for move is at 140000320443712\n",
      "Destructor of object at 140000320443712 with data \"\"\n",
      "Copy constructor of object at 140000320763648. Source for copy is at 140000934993456\n",
      "Copy constructor of object at 140000320341056. Source for copy is at 140000934993456\n",
      "Move constructor of object at 140000320340928. Source for move is at 140000320763552\n",
      "Destructor of object at 140000320763552 with data \"\"\n",
      "Move constructor of object at 140000320340960. Source for move is at 140000320763584\n",
      "Destructor of object at 140000320763584 with data \"\"\n",
      "Move constructor of object at 140000320340992. Source for move is at 140000320763616\n",
      "Destructor of object at 140000320763616 with data \"\"\n",
      "Move constructor of object at 140000320341024. Source for move is at 140000320763648\n",
      "Destructor of object at 140000320763648 with data \"\"\n",
      "Copy constructor of object at 140000320341088. Source for copy is at 140000934993456\n",
      "Copy constructor of object at 140000320341120. Source for copy is at 140000934993456\n",
      "Copy constructor of object at 140000320341152. Source for copy is at 140000934993456\n",
      "Copy constructor of object at 140000317684464. Source for copy is at 140000934993456\n",
      "Move constructor of object at 140000317684208. Source for move is at 140000320340928\n",
      "Destructor of object at 140000320340928 with data \"\"\n",
      "Move constructor of object at 140000317684240. Source for move is at 140000320340960\n",
      "Destructor of object at 140000320340960 with data \"\"\n",
      "Move constructor of object at 140000317684272. Source for move is at 140000320340992\n",
      "Destructor of object at 140000320340992 with data \"\"\n",
      "Move constructor of object at 140000317684304. Source for move is at 140000320341024\n",
      "Destructor of object at 140000320341024 with data \"\"\n",
      "Move constructor of object at 140000317684336. Source for move is at 140000320341056\n",
      "Destructor of object at 140000320341056 with data \"\"\n",
      "Move constructor of object at 140000317684368. Source for move is at 140000320341088\n",
      "Destructor of object at 140000320341088 with data \"\"\n",
      "Move constructor of object at 140000317684400. Source for move is at 140000320341120\n",
      "Destructor of object at 140000320341120 with data \"\"\n",
      "Move constructor of object at 140000317684432. Source for move is at 140000320341152\n",
      "Destructor of object at 140000320341152 with data \"\"\n",
      "Copy constructor of object at 140000317684496. Source for copy is at 140000934993456\n",
      "Destructor of object at 140000934993456 with data \"FIRST\"\n",
      "Destructor of object at 140000317684208 with data \"FIRST\"\n",
      "Destructor of object at 140000317684240 with data \"FIRST\"\n",
      "Destructor of object at 140000317684272 with data \"FIRST\"\n",
      "Destructor of object at 140000317684304 with data \"FIRST\"\n",
      "Destructor of object at 140000317684336 with data \"FIRST\"\n",
      "Destructor of object at 140000317684368 with data \"FIRST\"\n",
      "Destructor of object at 140000317684400 with data \"FIRST\"\n",
      "Destructor of object at 140000317684432 with data \"FIRST\"\n",
      "Destructor of object at 140000317684464 with data \"FIRST\"\n",
      "Destructor of object at 140000317684496 with data \"FIRST\"\n"
     ]
    },
    {
     "data": {
      "text/plain": []
     },
     "execution_count": 8,
     "metadata": {},
     "output_type": "execute_result"
    }
   ],
   "source": [
    "{\n",
    "    std::vector<Vbose> vv;\n",
    "    // vv.reserve(10); // what happens if you uncomment this line?\n",
    "    Vbose one{\"FIRST\"};\n",
    "    for (int i = 0; i < 10; ++i) vv.push_back(one);\n",
    "}"
   ]
  },
  {
   "cell_type": "markdown",
   "id": "328486dc",
   "metadata": {},
   "source": [
    "Finally, we can use the Vbose class to see copy happening when we loop over a container using a plain `auto` as opposed to `auto&&` in a range based for loop..."
   ]
  },
  {
   "cell_type": "code",
   "execution_count": 6,
   "id": "de0aa2f3",
   "metadata": {},
   "outputs": [
    {
     "name": "stdout",
     "output_type": "stream",
     "text": [
      "Constructor of object at 140000934993456, using string \"EXEMPLAR\"\n",
      "Copy constructor of object at 140000318512896. Source for copy is at 140000934993456\n",
      "Copy constructor of object at 140000318512928. Source for copy is at 140000934993456\n",
      "Copy constructor of object at 140000318512960. Source for copy is at 140000934993456\n",
      "Copy constructor of object at 140000318512992. Source for copy is at 140000934993456\n",
      "Copy constructor of object at 140000318513024. Source for copy is at 140000934993456\n",
      "Copy constructor of object at 140000318513056. Source for copy is at 140000934993456\n",
      "Copy constructor of object at 140000318513088. Source for copy is at 140000934993456\n",
      "Copy constructor of object at 140000318513120. Source for copy is at 140000934993456\n",
      "Copy constructor of object at 140000318513152. Source for copy is at 140000934993456\n",
      "Copy constructor of object at 140000318513184. Source for copy is at 140000934993456\n",
      "Destructor of object at 140000934993456 with data \"EXEMPLAR\"\n",
      "Copy constructor of object at 140000934993344. Source for copy is at 140000318512896\n",
      "EXEMPLAR\n",
      "Destructor of object at 140000934993344 with data \"EXEMPLAR\"\n",
      "Copy constructor of object at 140000934993344. Source for copy is at 140000318512928\n",
      "EXEMPLAR\n",
      "Destructor of object at 140000934993344 with data \"EXEMPLAR\"\n",
      "Copy constructor of object at 140000934993344. Source for copy is at 140000318512960\n",
      "EXEMPLAR\n",
      "Destructor of object at 140000934993344 with data \"EXEMPLAR\"\n",
      "Copy constructor of object at 140000934993344. Source for copy is at 140000318512992\n",
      "EXEMPLAR\n",
      "Destructor of object at 140000934993344 with data \"EXEMPLAR\"\n",
      "Copy constructor of object at 140000934993344. Source for copy is at 140000318513024\n",
      "EXEMPLAR\n",
      "Destructor of object at 140000934993344 with data \"EXEMPLAR\"\n",
      "Copy constructor of object at 140000934993344. Source for copy is at 140000318513056\n",
      "EXEMPLAR\n",
      "Destructor of object at 140000934993344 with data \"EXEMPLAR\"\n",
      "Copy constructor of object at 140000934993344. Source for copy is at 140000318513088\n",
      "EXEMPLAR\n",
      "Destructor of object at 140000934993344 with data \"EXEMPLAR\"\n",
      "Copy constructor of object at 140000934993344. Source for copy is at 140000318513120\n",
      "EXEMPLAR\n",
      "Destructor of object at 140000934993344 with data \"EXEMPLAR\"\n",
      "Copy constructor of object at 140000934993344. Source for copy is at 140000318513152\n",
      "EXEMPLAR\n",
      "Destructor of object at 140000934993344 with data \"EXEMPLAR\"\n",
      "Copy constructor of object at 140000934993344. Source for copy is at 140000318513184\n",
      "EXEMPLAR\n",
      "Destructor of object at 140000934993344 with data \"EXEMPLAR\"\n",
      "Destructor of object at 140000318512896 with data \"EXEMPLAR\"\n",
      "Destructor of object at 140000318512928 with data \"EXEMPLAR\"\n",
      "Destructor of object at 140000318512960 with data \"EXEMPLAR\"\n",
      "Destructor of object at 140000318512992 with data \"EXEMPLAR\"\n",
      "Destructor of object at 140000318513024 with data \"EXEMPLAR\"\n",
      "Destructor of object at 140000318513056 with data \"EXEMPLAR\"\n",
      "Destructor of object at 140000318513088 with data \"EXEMPLAR\"\n",
      "Destructor of object at 140000318513120 with data \"EXEMPLAR\"\n",
      "Destructor of object at 140000318513152 with data \"EXEMPLAR\"\n",
      "Destructor of object at 140000318513184 with data \"EXEMPLAR\"\n"
     ]
    },
    {
     "data": {
      "text/plain": []
     },
     "execution_count": 6,
     "metadata": {},
     "output_type": "execute_result"
    }
   ],
   "source": [
    "{\n",
    "    using namespace std::string_literals;\n",
    "    std::vector<Vbose> vv(10, Vbose(\"EXEMPLAR\"));\n",
    "    for (auto elem: vv) std::cout << elem.value() << \"\\n\";\n",
    "}"
   ]
  },
  {
   "cell_type": "code",
   "execution_count": null,
   "id": "a5b2db4c",
   "metadata": {},
   "outputs": [],
   "source": []
  }
 ],
 "metadata": {
  "kernelspec": {
   "display_name": "C++17",
   "language": "C++",
   "name": "cling-cpp17"
  },
  "language_info": {
   "codemirror_mode": "c++",
   "file_extension": ".c++",
   "mimetype": "text/x-c++src",
   "name": "c++"
  }
 },
 "nbformat": 4,
 "nbformat_minor": 5
}
