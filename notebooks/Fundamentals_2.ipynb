{
 "cells": [
  {
   "cell_type": "markdown",
   "metadata": {},
   "source": [
    "# Getting started with C++ using Jupyter notebook: Part 2\n",
    "\n",
    "This notebook assumes that you did the Fundamentals_1 notebook earlier.\n"
   ]
  },
  {
   "cell_type": "code",
   "execution_count": null,
   "metadata": {},
   "outputs": [],
   "source": [
    "#pragma cling add_include_path(\"/p/project/training2213/local/include\")\n",
    "// Hopefully, you have read the introductory chapters in the course book and understand\n",
    "// the purpose of the include statements. The specific include files we are using here\n",
    "// will be explained later.\n",
    "\n",
    "// The contents of this cell are to set up this notebook. You don't need to understand\n",
    "// how this works right now. Run this and move on!\n",
    "#include <iostream>\n",
    "#include <type_traits>\n",
    "#include <string>\n",
    "#include <vector>\n",
    "#include <map>\n",
    "#include <cmath>\n",
    "#include <algorithm>\n",
    "#include <typeinfo>\n",
    "using namespace std;\n"
   ]
  },
  {
   "cell_type": "markdown",
   "metadata": {},
   "source": [
    "**Run only one of the following cells. If the first one works, leave the second one alone. If not, uncomment the code in the second cell and it.** "
   ]
  },
  {
   "cell_type": "code",
   "execution_count": null,
   "metadata": {},
   "outputs": [],
   "source": [
    "#include <boost/type_index.hpp>\n",
    "template <class T>\n",
    "void typeof(T&& t) {\n",
    "    std::cout << \"Type name: \" << boost::typeindex::type_id_with_cvr<T>().pretty_name() << \"\\n\";\n",
    "}"
   ]
  },
  {
   "cell_type": "code",
   "execution_count": null,
   "metadata": {},
   "outputs": [],
   "source": [
    "// template <class T>\n",
    "// void typeof(T&& t) {\n",
    "//    std::cout << \"Type name: \" << typeid(t).name() << \"\\n\";\n",
    "//}"
   ]
  },
  {
   "cell_type": "code",
   "execution_count": null,
   "metadata": {},
   "outputs": [],
   "source": [
    "#include <binform17.hh>\n",
    "using namespace cxx2022;\n",
    "// The header declares functions in the namespace 2022."
   ]
  },
  {
   "cell_type": "markdown",
   "metadata": {},
   "source": [
    "### Creating duplicates\n",
    "\n",
    "To create a duplicate of an existing variable `x`, we can do any of the following:\n",
    "```c++\n",
    "auto y1 = x;\n",
    "auto y2{x};\n",
    "```"
   ]
  },
  {
   "cell_type": "markdown",
   "metadata": {},
   "source": [
    "### Duplicate name stickers and creating aliases\n",
    "When you declare variable as described earlier, you do two things: \n",
    "\n",
    "    - create an object storing the value you gave it. \n",
    "    - create a \"name\" which you stick to that object. \n",
    "\n",
    "The name is a \"reference\" to the newly created object. It is possible to attach another name sticker to the same object:\n",
    "\n",
    "```\n",
    "auto& x2 = x;\n",
    "```\n",
    "\n",
    "Here, we are saying that we only want to give another name tag to the object with the name tag `x`. We do not want to create a new entity. Below, `x` and `x2` are aliases, since `x2` is created as a reference. `y` and `y2` are not aliases. `y2` is created as a duplicate object. Observe what happens when we change and print their values..."
   ]
  },
  {
   "cell_type": "code",
   "execution_count": null,
   "metadata": {},
   "outputs": [],
   "source": [
    "{\n",
    "    auto x = 0;\n",
    "    auto& x2 = x;\n",
    "    auto y = 10;\n",
    "    auto y2 = y;\n",
    "    cout << \"x = \" << x << \"\\tx2 = \" << x2 << \"\\ty = \" << y << \"\\ty2 = \" << y2 << \"\\n\";\n",
    "    x = x + 1;\n",
    "    y = y + 1;\n",
    "    cout << \"x = \" << x << \"\\tx2 = \" << x2 << \"\\ty = \" << y << \"\\ty2 = \" << y2 << \"\\n\";\n",
    "    x2 = x2 + 1;\n",
    "    y2 = y2 + 1;\n",
    "    cout << \"x = \" << x << \"\\tx2 = \" << x2 << \"\\ty = \" << y << \"\\ty2 = \" << y2 << \"\\n\";\n",
    "}"
   ]
  },
  {
   "cell_type": "markdown",
   "metadata": {},
   "source": [
    "If you write an expression using variable names, when evaluating (finding the value of) that expression, the variable names are substituted by their values. \n",
    "\n",
    "Let's also note here that the symbol `=` in C++ means \"assign\". `X = Y` means take the value of the entity on the right and put it in the object with the name `X`. We are not asking whether `X` is equal to `Y`. For that comparison, like in many other languages, C++ uses `==`. If `X` is an integer, `5 == X` is always a valid expression, which is either true or false, but `5 = X` is syntactically meaningless, because you can not give a new value to $5$."
   ]
  },
  {
   "cell_type": "markdown",
   "metadata": {},
   "source": [
    "Quiz: What does `X = X + 1` mean ?\n",
    "\n",
    "\n",
    "    A. X cancels out on both sides and we have 0 equals 1\n",
    "    B. Whatever value X had before, increase it by 1"
   ]
  },
  {
   "cell_type": "markdown",
   "metadata": {},
   "source": [
    "**Aside:** Historically, the choice of `=` for assignment (so that we have to type `==` when we want to check if two values are equal) goes back to a time before keyboard inputs and the Fortran language. It is a small shift to get used to, and no other token proposed for this very important operation, `:=`, `->`, `<-` etc. consist of a single character. In a typical C++ program, you will need assignment far more often than equality comparison, so that most programmers support this notation."
   ]
  },
  {
   "cell_type": "markdown",
   "metadata": {},
   "source": [
    "## Strings\n",
    "\n",
    "std::string is a type to represent character strings. It is a class provided by the C++ standard library, not a built in type in the language, but since it is a rather fundamental type we often need, e.g., names of people, places, chemicals, filenames ..., it is useful to know how to use it. To have access to standard library strings, we need to include the string header, i.e., put `#include <string>` somewhere at the beginning of a C++ program. We did that in the first \"you will understand later\" cell at the top of this notebook. Once we have included `<string>`, (and placed `using namespace std;` somewhere above,) we can declare and use strings as follows..."
   ]
  },
  {
   "cell_type": "code",
   "execution_count": null,
   "metadata": {},
   "outputs": [],
   "source": [
    "{\n",
    "    string fullname; // Without an explicit initialiser, strings are created empty\n",
    "    string name{\"Albert\"};\n",
    "    string surname{\"Einstein\"};\n",
    "    //Concatenation and assignment\n",
    "    fullname = name + \" \" + surname;\n",
    "    // Comparison\n",
    "    if (name == surname)\n",
    "       cout << \"You have the same first and last name! That's interesting!\\n\";\n",
    "    else\n",
    "       cout << \"Hello, \" << fullname << \"\\n\";\n",
    "}"
   ]
  },
  {
   "cell_type": "code",
   "execution_count": null,
   "metadata": {},
   "outputs": [],
   "source": [
    "{\n",
    "    // Converting back and forth between strings and numbers\n",
    "    string numstr1{\"3.1415926\"}, numstr2{\"53589793\"};\n",
    "    auto totstr = numstr1 + numstr2;\n",
    "    cout << \"Combined string is \" << totstr << \"\\n\";\n",
    "    cout << \"Sin(\" << totstr << \") = \" << sin(stod(totstr)) << \"\\n\";\n",
    "    // stod means string to double. Similarly stoi means string to integer.\n",
    "    // we can convert numstr2 above into an integer ...\n",
    "    cout << \"Second part, divided by 155 leaves a remainder \" << stoi(numstr2) % 155 << \"\\n\";\n",
    "}"
   ]
  },
  {
   "cell_type": "code",
   "execution_count": null,
   "metadata": {},
   "outputs": [],
   "source": [
    "// You can only convert string to numbers if those strings are in fact numbers. \n",
    "// Otherwise you get an \"exception\"...\n",
    "try {\n",
    "    cout << stoi(\"Hello\") << \"\\n\";\n",
    "} catch (std::exception& err) {\n",
    "    std::cout << \"Caught exception \" << err.what() << \"\\n\";\n",
    "}\n",
    "// We will learn about error handling with exceptions later"
   ]
  },
  {
   "cell_type": "markdown",
   "metadata": {},
   "source": [
    "### Constants\n",
    "\n",
    "Variables, as you have seen above, can change the value they store. A lot of programming becomes easier when you have access to such entities. Sometimes, we want variables (objects with names) to hold on to a specific value, and never change. "
   ]
  },
  {
   "cell_type": "code",
   "execution_count": null,
   "metadata": {},
   "outputs": [],
   "source": [
    "{\n",
    "    auto G = 6.674e-11;\n",
    "    auto m1 = 1.0e10, m2 = 1.0e4;\n",
    "    auto r = 10;\n",
    "    std::cout << \"Force = \" << -G * m1 * m2 / (r * r) << \"\\n\"; // great!\n",
    "    G = G + 1;\n",
    "    std::cout << \"Force = \" << -G * m1 * m2 / (r * r) << \"\\n\"; // wrong!\n",
    "}"
   ]
  },
  {
   "cell_type": "markdown",
   "metadata": {},
   "source": [
    "The above mistake was deliberately put in an easily detectable spot, to make a point. Some things should not be allowed to change. We can not simply rely on the politeness and infalibility of others to ensure that vital constants do not change in our program. In this day and age, our lives may depend on it. In C++, we can attach a `const` qualifier to the type to make a variable into a constant. When we create a `const` object, it can be initialised to any value at the point of its creation, but once created, it holds on to that same value, disallowing any further changes. Compiler will simply not accept code where we try to change a `const` qualified object."
   ]
  },
  {
   "cell_type": "code",
   "execution_count": null,
   "metadata": {},
   "outputs": [],
   "source": [
    "{\n",
    "    const auto G = 6.674e-11;\n",
    "    const auto m1 = 1.0e10, m2 = 1.0e4;\n",
    "    auto r = 10;\n",
    "    auto force = -G * m1 * m2 / (r * r); // great!\n",
    "    G = G + 1; // Will never compile\n",
    "    auto force2 = -G * m1 * m2 / (r * r); // Would have been a wrong answer, but will never happen, \n",
    "                                     // because the compiler will not allow the reason for the \n",
    "                                     // incorrect answer (G = G + 1) to ever happen.\n",
    "}"
   ]
  },
  {
   "cell_type": "markdown",
   "metadata": {},
   "source": [
    "Since it is possible to create multiple accessors or references to the same object, can we create an alias for `G` and change it sneakily ? "
   ]
  },
  {
   "cell_type": "code",
   "execution_count": null,
   "metadata": {},
   "outputs": [],
   "source": [
    "const auto G = 6.674e-11;\n",
    "auto& G2 = G;\n",
    "G2 = G2 + 1; // Nope!"
   ]
  },
  {
   "cell_type": "markdown",
   "metadata": {},
   "source": [
    "As you can see, the second reference we created had no more \"privilege\" than the first reference `G`. It became a reference to a `const double` so that the object accessed through it remained immutable. It is however possible to create aliases with reduced privileges: \n",
    "\n",
    "We have a normal mutable variable. We want to create and use an alias for some calculations, but we don't want to accidentally change the variable during those calculations. We can do this:\n"
   ]
  },
  {
   "cell_type": "code",
   "execution_count": null,
   "metadata": {},
   "outputs": [],
   "source": [
    "{\n",
    "    auto R = 0.7;\n",
    "    const auto& r = R;\n",
    "    // calculate using the value stored in R, but using a \"read only accessor\" \n",
    "    cout << \"Area = \" << 3.1415927 * r * r << \"\\n\"; // This is ok. We are not changing r.\n",
    "}"
   ]
  },
  {
   "cell_type": "code",
   "execution_count": null,
   "metadata": {},
   "outputs": [],
   "source": [
    "// If we, by mistake, write this ...\n",
    "{\n",
    "    auto R = 0.7;\n",
    "    const auto& r = R;\n",
    "    // calculate using the value stored in R, but using a \"read only accessor\" \n",
    "    cout << \"Area = \" << 3.1415927 * r * r << \"\\n\"; // This is ok. We are not changing r.\n",
    "    r = r * r; // it won't compile\n",
    "}\n"
   ]
  },
  {
   "cell_type": "markdown",
   "metadata": {},
   "source": [
    "It is therefore possible and useful to create `const` references to normal mutable variables. Because the constant reference is an accessor of reduced previlige. Being more restricted, it can not break any guarantees we previously had. We can not create non-constant references out of constant ones, because you would be allowed to change the object through the non-constant reference. You can also not attach a non-constant reference to a pure (R-)value:\n"
   ]
  },
  {
   "cell_type": "code",
   "execution_count": null,
   "metadata": {},
   "outputs": [],
   "source": [
    "{\n",
    "    auto& x = 6;\n",
    "}"
   ]
  },
  {
   "cell_type": "markdown",
   "metadata": {},
   "source": [
    "Restrictions such as the ones for `const` qualified objects ensure that certain kinds of errors can not happen in our programs. If we violate the constantness guarantees, the program fails to compile. If it compiles and runs, we can be sure that none of the 5000 libraries we are using is changing the value of the universal gravitational constant or the speed of light. \n",
    "\n",
    "It is normally good practice to create variables `const` by default, unless it really needs mutability to do what it is supposed to do."
   ]
  },
  {
   "cell_type": "markdown",
   "metadata": {},
   "source": [
    "**Note:** The C++ programmers community is nearly split equally between people who like writing `const` before the typename (including me, but only out of habbit) and those who prefer to always write it after the type, e.g., `double const G{6.674e-11};`. This \"east-const\" style is a bit more consistent across all uses of `const` in C++, because `const` actually applies to what's on its left. Only when there is nothing there does it bind to the typename on the right. If this is the first time you are learning to use `const`, perhaps you should put it on the right, like one puts adjectives after the noun in romance languages. No matter how you choose to write it, you should be aware that the other style exists, so that reading code with `const` in the other order does not confuse you. `int const` and `const int` are the same thing."
   ]
  },
  {
   "cell_type": "markdown",
   "metadata": {},
   "source": [
    "For the next exercise, let's start with a few variable declarations."
   ]
  },
  {
   "cell_type": "code",
   "execution_count": null,
   "metadata": {},
   "outputs": [],
   "source": [
    "{\n",
    "    int x;\n",
    "    int y = 2;\n",
    "    int z{y};\n",
    "    double w{4.};\n",
    "}"
   ]
  },
  {
   "cell_type": "markdown",
   "metadata": {},
   "source": [
    "## Exercise\n",
    "In this notebook, you can always find out the type of any expression by using the `typeof` function. For instance, `typeof(5)` will tell you that 5 is an `int`. Use the cell below to find out the types of the various symbols in the declarations above. *Note that unless the cell with typeof() function based on boost type_index worked at the beginning of this notebook, our type finding function does not keep information about references!*"
   ]
  },
  {
   "cell_type": "code",
   "execution_count": null,
   "metadata": {},
   "outputs": [],
   "source": [
    "{\n",
    "    int x;\n",
    "    int y = 2;\n",
    "    int z{y};\n",
    "    int& yr{y};\n",
    "    double w{4.};\n",
    "    typeof(w);\n",
    "    typeof(4.0);\n",
    "    typeof(z + y);\n",
    "    typeof(yr);\n",
    "}"
   ]
  },
  {
   "cell_type": "code",
   "execution_count": null,
   "metadata": {},
   "outputs": [],
   "source": [
    "{\n",
    "    std::string fullname{\"Longish Name\"};\n",
    "    typeof(fullname);\n",
    "}"
   ]
  },
  {
   "cell_type": "markdown",
   "metadata": {},
   "source": [
    "Type of a string is shown as a longish name, which is the true internal name of the string type in use since C++11. "
   ]
  },
  {
   "cell_type": "markdown",
   "metadata": {},
   "source": [
    "## L-values, R-values, references\n",
    "\n",
    "You might have noticed that 4.0 has a type `double`, but `w` is of the type `double&`. Recall that when you declare a variable, you do two things: make an object of the given type and give it a name or \"reference\". The name of a variable is a so called L-value reference to the object we create. L-value references are written with an ampersand `&` on the right in C++. That's why we see these `&` in the types of all named variables here, whereas strict values, like 2, 4.0 etc, which do not have any variable name, show as plain `int`, `double` etc. \n",
    "\n",
    "In C++, we distinguish between things which can or can not stand on the left hand side of an assignment operator.\n",
    "\n",
    "`x = 5;` makes sense: we store 5 in `x`. \n",
    "\n",
    "`6 = 5` makes no sense. 6 is not something whose value can be changed. \n",
    "\n",
    "Similarly `(x + y) = 5` does not make any sense. We want to store 5 somewhere, but where ? \n",
    "\n",
    "Things like 5, `x + y`, which can not be on the left hand side of an assignment expression are called R-values (they can only be on the Right side of the `=` symbol). Things like variable names which can also meaningfully appear on the left side in an assignment expression are called L-values. Our variable names are a type of entities in C++ known as L-value references.\n",
    "\n",
    "Whenever you use a reference in an expression, like `x + y * z`, the references like `x` are replaced by the values they store. So, you could almost always get by pretending that `x` is a `double`. Only when you explicitly try to find out the type of a named variable will you see that it is in fact a little different from the type it stores!"
   ]
  },
  {
   "cell_type": "markdown",
   "metadata": {},
   "source": [
    "Let's try to create a few references from some variables to understand an aspect of C++, which will be very important during our discussion of classes."
   ]
  },
  {
   "cell_type": "code",
   "execution_count": null,
   "metadata": {},
   "outputs": [],
   "source": [
    "// A few variables to set the stage for this experiment\n",
    "auto v1{17}, v2{23}; // v1 and v2 are integers with values 17 and 23"
   ]
  },
  {
   "cell_type": "code",
   "execution_count": null,
   "metadata": {},
   "outputs": [],
   "source": [
    "auto& v1r{v1}; // No problem. v1r is now another name for the object v1"
   ]
  },
  {
   "cell_type": "code",
   "execution_count": null,
   "metadata": {},
   "outputs": [],
   "source": [
    "auto& v2r{v2}; // No problem, obviously!"
   ]
  },
  {
   "cell_type": "code",
   "execution_count": null,
   "metadata": {},
   "outputs": [],
   "source": [
    "auto& v1pv2lvr{v1 + v2}; // Problems."
   ]
  },
  {
   "cell_type": "markdown",
   "metadata": {},
   "source": [
    "The syntactic meaning of what we were trying to do above is, \"make a new entity called v1pv2lvr, which is an alias of the object called `v1+v2`\". The reason the above fails is that `v1+v2` is a temporary result of a calculation, not a named variable. It is not an L-value reference. We therefore can not create an L-value reference `v1pv2lvr` out of it. When we explicitly create an L-value reference (by declaring it as `auto& something` or `SomeType& something`) the initializer expression must be an L-value reference (named variables, array elements ...), i.e., an entity which would make sense on the left side of an assignment symbol.\n",
    "\n",
    "So, you can not make L-value references to things like `5`, `3 * v1 + v2` etc. Because they are not L-values but R-values. \"Could I make an R-value reference instead ?\", I hear you ask. The answer, my good padawan, is yes. R-value references are written as `SomeType&&`, i.e., as a typename followed by two ampersands. "
   ]
  },
  {
   "cell_type": "code",
   "execution_count": null,
   "metadata": {},
   "outputs": [],
   "source": [
    "int&& v1pv2rvr{v1 + v2}; // Allowed"
   ]
  },
  {
   "cell_type": "markdown",
   "metadata": {},
   "source": [
    "The syntactic meaning of the above is \"make a new entity called v1pv2rvr, which should be the new name of a hitherto nameless result of the initializer expression\". If the initializer expression is an R-value, you can create an R-value reference to that as above. But once you have given a name to that nameless entity, you can use that as a normal L-value reference, i.e., you can use `v1pv2rvr` on the left side of an assignment symbol. `v1pv2rvr` is a name, and hence an L-value reference. It was created out of a nameless entity, which was an R-value. Therefore the different declaration."
   ]
  },
  {
   "cell_type": "code",
   "execution_count": null,
   "metadata": {},
   "outputs": [],
   "source": [
    "typeof(v1pv2rvr);"
   ]
  },
  {
   "cell_type": "code",
   "execution_count": null,
   "metadata": {},
   "outputs": [],
   "source": [
    "// But this does not work!\n",
    "int&& v1rvr{v1};"
   ]
  },
  {
   "cell_type": "markdown",
   "metadata": {},
   "source": [
    "You may have noticed that we did not use `auto&&` above to create `v1pv2rvr`. This is because `auto&&` is a bit more general: it means \n",
    "\n",
    "    -L-value reference if the initializer is an L-value reference,\n",
    "    -R-value reference if the initializer is an R-value\n",
    "\n",
    "Irrespective of what the initializer is, we end up with something we can use like an L-value reference."
   ]
  },
  {
   "cell_type": "code",
   "execution_count": null,
   "metadata": {},
   "outputs": [],
   "source": [
    "auto&& v1rvr{v1}; // OK"
   ]
  },
  {
   "cell_type": "code",
   "execution_count": null,
   "metadata": {},
   "outputs": [],
   "source": [
    "auto&& v1pv2r{ v1 + v2 }; // OK"
   ]
  },
  {
   "cell_type": "code",
   "execution_count": null,
   "metadata": {},
   "outputs": [],
   "source": [
    "typeof(v1rvr);\n",
    "typeof(v1pv2r);"
   ]
  },
  {
   "cell_type": "markdown",
   "metadata": {},
   "source": [
    " `auto&` and `auto&&` both also copy the constness of the initializer."
   ]
  },
  {
   "cell_type": "code",
   "execution_count": null,
   "metadata": {},
   "outputs": [],
   "source": [
    "const int v3{34};\n",
    "auto&& v3r{v3};\n",
    "typeof(v3r);\n",
    "auto& v3r2{v3r};\n",
    "typeof(v3r2);"
   ]
  },
  {
   "cell_type": "markdown",
   "metadata": {},
   "source": [
    "### Assignment expressions"
   ]
  },
  {
   "cell_type": "markdown",
   "metadata": {},
   "source": [
    "The left hand side of an assignment operator must be an L-value reference. For the assignment operator, this reference is not substituted by its value, as that would be pointless. If `X`, the integer, is currently holding `1`, and we write `X = 0` we are not saying that change the value of `1` to `0`. We are saying `X` should now hold `0`. \n",
    "\n",
    "It is possible to assign different **values** to variables after they have been declared. That process is called assignment. Assignment **may change the value, but can not change the type** of the left hand side of the assignment symbol:\n",
    "```c++\n",
    "X = 4; // X is still an integer. But now it contains a value 4.\n",
    "```\n",
    "If the right hand side (RHS) of the assignment operator `=` has a different type than the left hand side(LHS), the assignment can only succeed if that value can be converted to the type of the LHS.\n",
    "```c++\n",
    "double w{77.9};\n",
    "w = 1; // w is still a double. It now holds the value 1.0. \n",
    "       // The integer 1 on the right hand side is converted to a double precision value 1.0\n",
    "```\n",
    "The bit representation of integer 1 is \"0000 .... 0001\", where as that of double precision 1 is \"0011111111110000000....00000000\". As far as the computer is concerned, `w = 1` and `w = 1.0` above are quite different things. But, since `w` is of the type `double`, and that can not change, the incoming value is converted to the appropriate type, and then assigned.\n",
    "\n",
    "The point being made here is not that it takes extra time for these assignments. It does not need extra time in this case, because `1` is a constant known at compile time, and hence the conversion can happen during compilation. We are just drawing attention to what happens during assignment, and yes, if the type conversion can not happen at compile time (RHS is another variable whose value is not known before the program runs), the type conversion has an (often small but non-zero) overhead."
   ]
  },
  {
   "cell_type": "markdown",
   "metadata": {},
   "source": [
    "### References: summary for the impatient:\n",
    "\n",
    "- Create a new duplicate variable from existing variable : \n",
    "    + TYPENAME newvar{oldvar};\n",
    "    + auto newvar{oldvar};\n",
    "- Create an alias (reference) to an existing variable :\n",
    "    + TYPENAME& newvar{oldvar};\n",
    "    + auto& newvar{oldvar};\n",
    "    + auto&& newvar{oldvar};\n",
    "- Create a reference to an existing variable with no write access:\n",
    "    + const TYPENAME& newvar{oldvar};\n",
    "    + const auto& newvar{oldvar};\n",
    "- Create a reference to a temporary nameless object:\n",
    "    + TYPENAME&& newvar{init_expr};\n",
    "    + auto&& newvar{init_expr};"
   ]
  },
  {
   "cell_type": "markdown",
   "metadata": {},
   "source": [
    "## Addresses and pointers\n",
    "\n",
    "Every object which is allowed to be on the left side of an assignment operation has a particular location in memory storing its state. The bytes in that memory location, when interpreted by the rules of the type, yield the stored value. For a mental model, just imagine that the computer memory is a very long street in which each byte has a numbered address. The address of the first byte storing the state of an object is regarded as the address of that object. Address of an object identified by the name `X` can be obtained by `std::addressof(X)` or by `&X`. The number of bytes used to store the state of an object on the stack can be queried using the `sizeof` operator.\n"
   ]
  },
  {
   "cell_type": "code",
   "execution_count": null,
   "metadata": {},
   "outputs": [],
   "source": [
    "{\n",
    "    #include <iostream>\n",
    "    double X{2.0};\n",
    "    int i{2021};\n",
    "    std::cout << \"Variable X, value = \" << X\n",
    "          << \", size in bytes = \" << sizeof(decltype(X)) \n",
    "          << \", location in memory = \" << (size_t) std::addressof(X) << \"\\n\";\n",
    "    std::cout << \"Variable i, value = \" << i\n",
    "          << \", size in bytes = \" << sizeof(decltype(i)) \n",
    "          << \", location in memory = \" << (size_t) std::addressof(i) << \"\\n\";\n",
    "}"
   ]
  },
  {
   "cell_type": "markdown",
   "metadata": {},
   "source": [
    "There is a built-in type in C++ to store addresses of objects. They are called pointers. For every type `T`, there is an associated pointer type `T*`. Objects of type `T*` can store addresses belonging to objects of type `T`. Although addresses are just byte locations in memory, it is useful to distinguish between pointers to different types.\n",
    "\n",
    "Pointers are described in detail in the companion book, chapter 2. We will not discuss it any further in this notebook, but will return to the topic as and when required. For now, it suffices to know that they store addresses of variables, and those addresses can be obtained as shown above.\n"
   ]
  },
  {
   "cell_type": "markdown",
   "metadata": {},
   "source": [
    "## Conditionals\n",
    "\n",
    "### if ... else if ... else\n",
    "```c++\n",
    "if (condition) do_something;\n",
    "if (condition) {\n",
    "    one_thing;\n",
    "    another_thing;\n",
    "    many_things;\n",
    "}\n",
    "if (condition) do_something;\n",
    "else do_something_else;\n",
    "if (one_or_more_declarations; condition) ...\n",
    "```\n",
    "The primary conditional branch statement in C++ is the `if ... else ...` statement, and a few different ways to write them are schematically shown above. The obvious interpretation is the correct one. The conditional statement can contain one or more variable declarations before the boolean expression in the parentheses enclosing the \"condition\" part. Variables declared there can be used in the `if` as well as the `else` part of the conditional block (more about variable lifetime soon!). Examples:"
   ]
  },
  {
   "cell_type": "code",
   "execution_count": null,
   "metadata": {},
   "outputs": [],
   "source": [
    "{\n",
    "    auto high{55};\n",
    "    if (high % 3 == 0) cout << high << \" is divisible by 3\\n\";\n",
    "    else cout << high << \" is not divisible by 3\\n\";\n",
    "}"
   ]
  },
  {
   "cell_type": "markdown",
   "metadata": {},
   "source": [
    "It is possible to chain as many `if` statements as required if different actions need to be taken based on many different conditions. For instance,\n",
    "```c++\n",
    "if (value < 10.) do_A;\n",
    "else if (value < 20.) do_B;\n",
    "else if (value < 30.) do_C;\n",
    "else if (whatever) do_X;\n",
    "...\n",
    "else do_Z;\n",
    "```"
   ]
  },
  {
   "cell_type": "markdown",
   "metadata": {},
   "source": [
    "### switch\n",
    "\n",
    "The `if` statement allows us to branch in to two alternative actions based on a condition. The `switch` block allows us to branch into an arbitrarily many alternative actions based on the value of an integral type.\n",
    "\n",
    "```c++\n",
    "switch (high - low) {\n",
    "    case 0 : cout << \"high and low can not have the same value\\n\"; break;\n",
    "    case 1 : \n",
    "    case 2 : cout << \"a difference of 1 or 2 between the limits is still too low\\n\"; break;\n",
    "    default : cout << \"The limits are acceptable\\n\";\n",
    "};\n",
    "```\n",
    "If the value passed to the switch statement matches any of the \"cases\" inside the switch block, the program jumps to the label for that particular case **and continues executing until the end or until it sees a `break` statement**."
   ]
  },
  {
   "cell_type": "code",
   "execution_count": null,
   "metadata": {},
   "outputs": [],
   "source": [
    "switch (high - low) {\n",
    "    case 0 : cout << \"high and low can not have the same value\\n\"; break;\n",
    "    case 1 :\n",
    "    case 2 : cout << \"a difference of 1 or 2 between the limits is still too low\\n\"; break;\n",
    "    default : cout << \"The limits are acceptable\\n\";\n",
    "};"
   ]
  },
  {
   "cell_type": "markdown",
   "metadata": {},
   "source": [
    "### Ternary expression `? :`\n",
    "\n",
    "The ternary expression has the form, `condition ? value_if_true : value_if_false`. It is often used to express that we want to assign one of two values, depending on some logical condition.\n",
    "```c++\n",
    "res = (r < cost) ? calc : 0. ;\n",
    "```\n",
    "In the above, `r` and `cost` are presumably some  variables, and the value assigned to `res` is `calc` if `r` is less than `cost`, and `0.` otherwise. In other words, we could write the above as,\n",
    "```c++\n",
    "if (r<cost) res = calc;\n",
    "else res = 0.;\n",
    "```\n",
    "The ternary alternative might be more compact / expressive in some cases."
   ]
  },
  {
   "cell_type": "markdown",
   "metadata": {},
   "source": [
    "## Iterations\n",
    "\n",
    "Loop constructs allow us to repeat an action consisting of one or more statements as many times as we need."
   ]
  },
  {
   "cell_type": "markdown",
   "metadata": {},
   "source": [
    "### `while` loops"
   ]
  },
  {
   "cell_type": "code",
   "execution_count": null,
   "metadata": {},
   "outputs": [],
   "source": [
    "{\n",
    "    auto curr{0}, lim{10};\n",
    "    while (curr < lim) {\n",
    "        cout << \"Value = \" << curr << \"\\n\";\n",
    "        ++curr;\n",
    "    }\n",
    "}\n",
    "// Run this cell as it is. Then re-run after changing the limit to 0. How many times is the loop body executed ?"
   ]
  },
  {
   "cell_type": "markdown",
   "metadata": {},
   "source": [
    "`while` loops have the basic syntax:\n",
    "```c++\n",
    "while (condition) { body }\n",
    "```\n",
    "They execute a statement or a brace enclosed series of statements repeatedly while a certain condition remains true. Conceptually,\n",
    "\n",
    "1. Evaluate condition\n",
    "2. If false, jump to 5\n",
    "4. Loop body\n",
    "5. Back to 1.\n",
    "6. End of loop"
   ]
  },
  {
   "cell_type": "markdown",
   "metadata": {},
   "source": [
    "### `do ... while` loops"
   ]
  },
  {
   "cell_type": "code",
   "execution_count": null,
   "metadata": {},
   "outputs": [],
   "source": [
    "{\n",
    "    int curr{0}, lim{10};\n",
    "    do {\n",
    "        cout << \"value = \" << curr << \"\\n\";\n",
    "        ++curr;\n",
    "    } while (curr < lim);\n",
    "}\n",
    "// Run this cell as it is. Then re-run after changing the limit to 0. \n",
    "// How many times is the loop body executed ?"
   ]
  },
  {
   "cell_type": "markdown",
   "metadata": {},
   "source": [
    "Web based environments like Jupyterlab and online C++ compilers such as coliru and wandbox do not currently handle\n",
    "standard input well. We therefore do not get any opportunity to enter a value, whereas the above code in a real\n",
    "program would stop for user input."
   ]
  },
  {
   "cell_type": "markdown",
   "metadata": {},
   "source": [
    "The syntax of the `do ... while` loop can be schematically written as:\n",
    "```c++\n",
    "do { body } while (condition);\n",
    "```\n",
    "Conceptually, it is:\n",
    "\n",
    "1. Execute body\n",
    "2. Evaluate condition\n",
    "2. if conditino is true, back to 1\n",
    "2. End of loop"
   ]
  },
  {
   "cell_type": "markdown",
   "metadata": {},
   "source": [
    "The body of the `do ... while` loop is executed at least once, where as the body of the `while` loop is executed zero or more times depending on the loop condition at the point of entry."
   ]
  },
  {
   "cell_type": "markdown",
   "metadata": {},
   "source": [
    "### Range based for loops (\"for each\" loops)"
   ]
  },
  {
   "cell_type": "code",
   "execution_count": null,
   "metadata": {},
   "outputs": [],
   "source": [
    "{\n",
    "    std::string s{\"Sunday\"};\n",
    "    for (auto day : {\"Monday\", \"Tuesday\", \"Wednessday\", \"Thursday\", \"Friday\", \"Saturday\", \"Sunday\"}) {\n",
    "        cout << day << \" comes after \" << s << \"\\n\";\n",
    "        s = day;\n",
    "    }\n",
    "}"
   ]
  },
  {
   "cell_type": "markdown",
   "metadata": {},
   "source": [
    "Range based for loops work on each element in a sequence. Typically, these sequences are standard library containers, and more examples will be given once the containers are introduced."
   ]
  },
  {
   "cell_type": "markdown",
   "metadata": {},
   "source": [
    "### `for` loops"
   ]
  },
  {
   "cell_type": "code",
   "execution_count": null,
   "metadata": {},
   "outputs": [],
   "source": [
    "for (int i = 0; i < 10; ++i) cout << \"counter = \" << i << \"\\n\"; // ++i means increase i by 1. "
   ]
  },
  {
   "cell_type": "markdown",
   "metadata": {},
   "source": [
    "`for` loops have the basic syntax:\n",
    "```c++\n",
    "for (init ; continuation_condtion ; increment) { body }\n",
    "```\n",
    "As usual, if the body to be repeated is a single statement, we can omit the braces `{` and `}` around it. The loop is executed as long as the condition is true. Conceptually, this is how it works:\n",
    "\n",
    "1. The initialisation is executed. \n",
    "1. The condition is evaluated\n",
    "1. If the condition evaluates to false, jump to 7\n",
    "1. Loop body\n",
    "1. The increment part is evaluated\n",
    "1. Back to 2\n",
    "1. End of loop\n",
    "\n",
    "The parenthesis in the loop head must have the two `;` separating the initialisation, condition and the increment. But we can leave out any of these. For instance, the following will repeat the loop body indefinitely:\n",
    "```c++\n",
    "for (;;) { body }\n",
    "```"
   ]
  },
  {
   "cell_type": "markdown",
   "metadata": {},
   "source": [
    "## Error handling with exceptions\n",
    "\n",
    "In C++, there are many different ways of handling errors happening at program execution time. The exceptions are one of the oldest. The idea is that when an error occurs, we write code to \"throw an exception\". Program execution then does not continue to the next line, but directly to a point where the exception is \"caught\" and handled.\n",
    "\n",
    "In order to watch for possible exceptions coming out of a region of code, we have to wrap it in a `try ... catch` set up.\n",
    "\n",
    "```c++\n",
    "std::string inp{\"3.14159\"};\n",
    "try {\n",
    "    auto num = std::stod(inp);\n",
    "    std::cout << \"Square root of \" << num << \" is \" << std::sqrt(num) << \"\\n\";\n",
    "} catch (std::exception& error) {\n",
    "    std::cout << \"Error : \" << error.what() << \"\\n\";\n",
    "}\n",
    "```"
   ]
  },
  {
   "cell_type": "code",
   "execution_count": null,
   "metadata": {},
   "outputs": [],
   "source": [
    "{\n",
    "    std::string inp{\"3.14159\"};\n",
    "    try {\n",
    "        auto num = std::stod(inp);\n",
    "        std::cout << \"Cube root of \" << num << \" is \" << std::cbrt(num) << \"\\n\";\n",
    "    } catch (std::exception& error) {\n",
    "        std::cout << \"My own error handling : \" << error.what() << \"\\n\";\n",
    "    }\n",
    "}"
   ]
  },
  {
   "cell_type": "markdown",
   "metadata": {},
   "source": [
    "In the above, the normal expected path of the code start with a string definition, conversion of the string to a double, and then evaluation and printing of the cube root. If you run it the rest of the lines stay unused. But, if you then change the `inp` string to something that can not be interpreted as beginning with a number, `stod` can not fulfill its purpose. For instance, if you make `inp` into \"Frog\", there is no way to construct a `double` value out of the start of that string. The function `std::stod` then throws an exception. Once an exception is in flight, the program execution does not go line by line. It looks for the nearest enclosing `try` block. In this case, that's our `try` block. Program control looks for a `catch` block following that try block to see if the type of exception matches what is caught in the `catch` block. If it does, the code in that catch block is executed, and normal line-by-line execution begins from the `catch` block. If it does not match, subsequent `catch` blocks attached to the same `try` block are tested. In pseudo-code:\n",
    "\n",
    "```c++\n",
    "std::string inp{\"3.14159\"};\n",
    "try {\n",
    "    auto num = std::stod(inp); // in case of error, throw something\n",
    "    std::cout << \"Square root of \" << num << \" is \" << std::sqrt(num) << \"\\n\";\n",
    "} catch (ErrorType1& error) {\n",
    "    std::cout << \"Error : \" << error.what() << \"\\n\";\n",
    "    std::cout << \"I will handle this by asking the user for input again\\n\";\n",
    "} catch (ErrorType2& error) {\n",
    "    std::cout << \"This other type of error has happened! I know how to fix this.\\n\";\n",
    "} catch (ErrorType3& error) {\n",
    "    std::cout << \"Error type 3 has happened! I will save useful data and quit\\n\";    \n",
    "}\n",
    "```\n",
    "\n",
    "Control jumps to the first `catch` block in the sequence that matches. If none of them do, the exception mechanism looks for the next higher level `try` block surrounding the current context, and tries to find a handler. If the exception remains unhandled all the way to the `main` function, the program terminates.\n",
    "\n",
    "Error handling with exceptions changes the execution flow of the program. The infrastructure required adds a non-zero cost to the program, even when no exception is thrown or handled. But then, run-time errors can be neatly handled to let the program recover from unexpected situations or save important results before closing gracefully. If your program is managing a self-driving car, letting it crash or misbehave due to unexpected inputs from sensors is just not a great plan!\n",
    "\n",
    "In summary, while exceptions are not zero-cost, the cost should really be compared to other ways of handling all sorts of errors. In most situations, the benefits of having exception-safety outweighs their measurable performance cost."
   ]
  },
  {
   "cell_type": "code",
   "execution_count": null,
   "metadata": {},
   "outputs": [],
   "source": []
  }
 ],
 "metadata": {
  "kernelspec": {
   "display_name": "C++17",
   "language": "C++",
   "name": "cling-cpp17"
  },
  "language_info": {
   "codemirror_mode": "c++",
   "file_extension": ".c++",
   "mimetype": "text/x-c++src",
   "name": "c++"
  }
 },
 "nbformat": 4,
 "nbformat_minor": 4
}
