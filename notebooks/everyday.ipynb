{
 "cells": [
  {
   "cell_type": "markdown",
   "id": "4087a427",
   "metadata": {},
   "source": [
    "# Programming in C++\n",
    "## 8 -- 12 May 2023\n",
    "## Jülich Supercomputing Centre, Forschungszentrum Jülich, Germany\n",
    "\n",
    "### Lectures and interactive sessions\n",
    "\n",
    "This is an in-person event held at the Jülich Supercomputing Centre, Forschungszentrum Jülich, Germany. The lectures will\n",
    "be held in the room Ausbildungsraum-1 (R. 213a) in the building 16.3.\n",
    "\n",
    "**Course Material:** The course material will be hosted on the JSC gitlab server at the link:\n",
    "\n",
    "https://gitlab.version.fz-juelich.de/sdlbio-courses/programming-in-cxx-2023\n",
    "\n",
    "If you use git, you can quickly get the material by cloning the repository like this:\n",
    "\n",
    "```bash\n",
    "git clone https://gitlab.version.fz-juelich.de/sdlbio-courses/programming-in-cxx-2023.git\n",
    "```\n",
    "\n",
    "If not, go to the webpage for the course and use the download button to the left of the \"Clone\" button. It *does not have the text \"Download\" on it*, just a tiny image with a downward pointing arrow!\n",
    "\n",
    "**Access to the JUWELS supercomputer for the course** The access is going to be through the JupyterJSC Jupyter Hub.\n",
    "The link to JupyterJSC is here: https://jupyter-jsc.fz-juelich.de/hub/home\n",
    "\n",
    "If you have performed all the steps in your registration process, you should be able to log in and start a Jupyter lab session here.\n",
    "\n",
    "- Click on \"Add new JupyterLab\"\n",
    "- Select JUSUF as your system\n",
    "- If you have multiple accounts, select your account\n",
    "- Select the project training2312\n",
    "- Select partition \"LoginNode\"\n",
    "\n",
    "Click \"Start\" to start your JupyterLab session. The next step is very important!!\n",
    "(In case the project \"training2312\" does not show up for you during the course days, please speak up and tell us in the live lecture sessions.)\n",
    "\n",
    "**Important step for every course day:** When you have started your Jupyter Lab session, the first thing you should do is to open a terminal from the menu : File -> New -> Terminal. In that terminal, you enter the following command:\n",
    "\n",
    "```bash\n",
    "source $PROJECT/local/setup.sh\n",
    "```\n",
    "\n",
    "The first day you do it, it will create your own private working area and create a symbolic link to it accessible directly from the left panel in your Jupyter Lab. The link will be called **CXX2023**. In other words, after you run the above command, when you see a link CXX2023 among other entries in your HOME folder, you can click on that to get to **your private workspace**. The necessary compilers will be accessible by just typing `g++` and `clang++`. The libraries we are going to need during the course will be pre-installed, as described in the companion book for the course. No further set up steps are required.\n",
    "\n",
    "The course material for each day will be made available to you on that day. When you run the setup script, it will also bring any new material as required.\n",
    "\n",
    "___\n"
   ]
  },
  {
   "cell_type": "code",
   "execution_count": null,
   "id": "723d61da-cded-4278-81eb-b9ae61f2852e",
   "metadata": {},
   "outputs": [],
   "source": []
  }
 ],
 "metadata": {
  "kernelspec": {
   "display_name": "C++17",
   "language": "C++17",
   "name": "xcpp17"
  },
  "language_info": {
   "codemirror_mode": "text/x-c++src",
   "file_extension": ".cpp",
   "mimetype": "text/x-c++src",
   "name": "c++",
   "version": "17"
  }
 },
 "nbformat": 4,
 "nbformat_minor": 5
}
