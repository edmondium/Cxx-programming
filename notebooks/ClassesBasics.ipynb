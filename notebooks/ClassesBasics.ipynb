{
 "cells": [
  {
   "cell_type": "code",
   "execution_count": 1,
   "id": "12fb635a",
   "metadata": {},
   "outputs": [
    {
     "data": {
      "text/plain": []
     },
     "execution_count": 1,
     "metadata": {},
     "output_type": "execute_result"
    }
   ],
   "source": [
    "#pragma cling add_include_path(\"/p/project/training2213/local/include\")"
   ]
  },
  {
   "cell_type": "code",
   "execution_count": 17,
   "id": "aee2c444",
   "metadata": {},
   "outputs": [
    {
     "data": {
      "text/plain": []
     },
     "execution_count": 17,
     "metadata": {},
     "output_type": "execute_result"
    }
   ],
   "source": [
    "#include <iostream>\n",
    "#include <cmath>"
   ]
  },
  {
   "cell_type": "markdown",
   "id": "9e3d6531",
   "metadata": {},
   "source": [
    "User defined data types are created using the `struct` or `class` keyword. (They are more or less the same. The minor differences will be pointed out later.)"
   ]
  },
  {
   "cell_type": "code",
   "execution_count": 4,
   "id": "f656858e",
   "metadata": {},
   "outputs": [
    {
     "data": {
      "text/plain": []
     },
     "execution_count": 4,
     "metadata": {},
     "output_type": "execute_result"
    }
   ],
   "source": [
    "class A{};\n",
    "class B{};"
   ]
  },
  {
   "cell_type": "markdown",
   "id": "ba64b266",
   "metadata": {},
   "source": [
    "The above are the smallest possible classes in C++, not containing anything in them. But they are still **different types**. Objects of type `A` are considered to be of a different unrelated type compared to objects of type `B`. Type identity is not based on what is inside a class. Two type names would be regarded as the same only if one is a type alias of another. Type aliases are created using the keyword `using`:"
   ]
  },
  {
   "cell_type": "code",
   "execution_count": 5,
   "id": "57478793",
   "metadata": {},
   "outputs": [
    {
     "data": {
      "text/plain": []
     },
     "execution_count": 5,
     "metadata": {},
     "output_type": "execute_result"
    }
   ],
   "source": [
    "using C = A;"
   ]
  },
  {
   "cell_type": "code",
   "execution_count": 6,
   "id": "99aa2cb4",
   "metadata": {},
   "outputs": [
    {
     "data": {
      "text/plain": []
     },
     "execution_count": 6,
     "metadata": {},
     "output_type": "execute_result"
    }
   ],
   "source": [
    "void f(int i, A a)\n",
    "{\n",
    "    std::cout << \"Version of f overloaded for int and A\\n\";\n",
    "}"
   ]
  },
  {
   "cell_type": "code",
   "execution_count": 7,
   "id": "19aa2811",
   "metadata": {},
   "outputs": [
    {
     "data": {
      "text/plain": []
     },
     "execution_count": 7,
     "metadata": {},
     "output_type": "execute_result"
    }
   ],
   "source": [
    "void f(int i, B a)\n",
    "{\n",
    "    std::cout << \"Version of f overloaded for int and B\\n\";\n",
    "}"
   ]
  },
  {
   "cell_type": "code",
   "execution_count": 8,
   "id": "a49aaa4d",
   "metadata": {},
   "outputs": [
    {
     "name": "stdout",
     "output_type": "stream",
     "text": [
      "Version of f overloaded for int and A\n",
      "Version of f overloaded for int and B\n",
      "Version of f overloaded for int and A\n"
     ]
    },
    {
     "data": {
      "text/plain": []
     },
     "execution_count": 8,
     "metadata": {},
     "output_type": "execute_result"
    }
   ],
   "source": [
    "{\n",
    "    int num{88};\n",
    "    A xa;\n",
    "    B xb;\n",
    "    C xc;\n",
    "    f(num, xa);\n",
    "    f(num, xb);\n",
    "    f(num, xc);\n",
    "}"
   ]
  },
  {
   "cell_type": "markdown",
   "id": "acf3527d",
   "metadata": {},
   "source": [
    "A user defined data type can optionally define \"member\" fields."
   ]
  },
  {
   "cell_type": "code",
   "execution_count": 9,
   "id": "c7fa98de",
   "metadata": {},
   "outputs": [
    {
     "data": {
      "text/plain": []
     },
     "execution_count": 9,
     "metadata": {},
     "output_type": "execute_result"
    }
   ],
   "source": [
    "struct Example1 {\n",
    "    int x{}, y{};\n",
    "};"
   ]
  },
  {
   "cell_type": "markdown",
   "id": "a4e5f919",
   "metadata": {},
   "source": [
    "Each \"instance\" of an object of such a type has each of the data fields defined in the `class`. The members (components) of an instance are accessed using a dot notation for references and `->` notation for pointers."
   ]
  },
  {
   "cell_type": "code",
   "execution_count": 10,
   "id": "5d620cad",
   "metadata": {},
   "outputs": [
    {
     "name": "stdout",
     "output_type": "stream",
     "text": [
      "Components of v1 : 2, 4\n",
      "Components of v2 : 98, 3\n",
      "Size of an object of type Example1 = 8 bytes\n",
      "Components of the entity vp is pointing to : 2, 4\n"
     ]
    },
    {
     "data": {
      "text/plain": []
     },
     "execution_count": 10,
     "metadata": {},
     "output_type": "execute_result"
    }
   ],
   "source": [
    "{\n",
    "    Example1 v1{2, 4};\n",
    "    Example1 v2{98, 3};\n",
    "    std::cout << \"Components of v1 : \" << v1.x << \", \" << v1.y << \"\\n\";\n",
    "    std::cout << \"Components of v2 : \" << v2.x << \", \" << v2.y << \"\\n\";\n",
    "    std::cout << \"Size of an object of type Example1 = \" << sizeof(Example1) << \" bytes\\n\";\n",
    "    Example1* vp{&v1};\n",
    "    std::cout << \"Components of the entity vp is pointing to : \" << vp->x << \", \" << vp->y << \"\\n\";\n",
    "}"
   ]
  },
  {
   "cell_type": "markdown",
   "id": "04be22fd",
   "metadata": {},
   "source": [
    "Classes are supposed to represent conceptual types : think complex numbers, 3D vectors, Atoms, Molecules, distances, ... Nouns we need to describe our problem are candidates to be classes. We model such entities by filling the classes with the right kind of members (properties). These members could be function members as well..."
   ]
  },
  {
   "cell_type": "code",
   "execution_count": 11,
   "id": "e5cdfd16",
   "metadata": {},
   "outputs": [
    {
     "data": {
      "text/plain": []
     },
     "execution_count": 11,
     "metadata": {},
     "output_type": "execute_result"
    }
   ],
   "source": [
    "struct Example2 {\n",
    "    int x{}, y{};\n",
    "    auto mod() -> int { return x * x + y * y; }\n",
    "};"
   ]
  },
  {
   "cell_type": "code",
   "execution_count": 12,
   "id": "5cd1391b",
   "metadata": {},
   "outputs": [
    {
     "name": "stdout",
     "output_type": "stream",
     "text": [
      "Components of v1 : 2, 4\n",
      "Components of v2 : 98, 3\n",
      "Size of an object of type Example2 = 8 bytes\n",
      "mod result from v1 = 20\n",
      "mod result from v2 = 9613\n",
      "mod of the entity vp is point to = 20\n"
     ]
    },
    {
     "data": {
      "text/plain": []
     },
     "execution_count": 12,
     "metadata": {},
     "output_type": "execute_result"
    }
   ],
   "source": [
    "{\n",
    "    Example2 v1{2, 4};\n",
    "    Example2 v2{98, 3};\n",
    "    std::cout << \"Components of v1 : \" << v1.x << \", \" << v1.y << \"\\n\";\n",
    "    std::cout << \"Components of v2 : \" << v2.x << \", \" << v2.y << \"\\n\";\n",
    "    std::cout << \"Size of an object of type Example2 = \" << sizeof(Example2) << \" bytes\\n\";\n",
    "    std::cout << \"mod result from v1 = \" << v1.mod() << \"\\n\";\n",
    "    std::cout << \"mod result from v2 = \" << v2.mod() << \"\\n\";\n",
    "    Example2* vp{&v1};\n",
    "    std::cout << \"mod of the entity vp is point to = \" << vp->mod() << \"\\n\";\n",
    "}"
   ]
  },
  {
   "cell_type": "markdown",
   "id": "8d522e25",
   "metadata": {},
   "source": [
    "Member functions are accessed using the same notation as data members (dot or `->`). \n",
    "\n",
    "Only data members contribute to the size of one instance of a class. An object of a class with two `int` members and 7000 member functions will still take 8 bytes to store.\n",
    "\n",
    "Member functions are defined once for each class. They are not attached to an instance. When we call `v1.mod()`, conceptually it is like `Example2::mod(&v1)`. We can't ourselves write it like this, but the compiler does something similar. The member functions are translated with a hidden first argument named `this`, as if the function was : \n",
    "\n",
    "```c++\n",
    "// only a conceptual model\n",
    "auto Example2_conceptual_mod(Example* this) -> int\n",
    "{\n",
    "    return this->x * this->x + this->y * this->y;\n",
    "}\n",
    "```\n",
    "\n",
    "The `this` pointer is real. It is available for use inside member functions in real code, akin to `self` in python. But in C++, `this->x` inside a member function can be shortened to `x`. This `this` pointer does not take any space inside the class: it is the address of the instance on the left of the dot, so that the compiler can always forward it correctly for every call to a member function. "
   ]
  },
  {
   "cell_type": "markdown",
   "id": "f836bc50",
   "metadata": {},
   "source": [
    "In C++, the composition of  a class in terms of its data and function members is a compile time constant. Properties of a class can not be added, removed or changed outside the class definition. When we see a variable (instance) of a certain type (class), we know exactly what properties it has, how many bytes it occupies etc., without considering the history of that variable in the program. One specific complex number can not in the course of the program execution acquire a new third component! All instances have the same data fields, and the same set of member functions. This enables regular, predictable and controllable behaviour when we use class type objects in regular code. "
   ]
  },
  {
   "cell_type": "markdown",
   "id": "2895d1f5",
   "metadata": {},
   "source": [
    "## const member functions\n",
    "\n",
    "How would we indicate that the function `mod` in the `Example2` class above does not change any data members ? In the conceptual model pseudo-implementation as a free-standing function, we could do that easily:\n",
    "\n",
    "```c++\n",
    "auto Example2_conceptual_mod(const Example2* this) -> int\n",
    "{\n",
    "    return this->x * this->x + this->y * this->y;\n",
    "}\n",
    "```\n",
    "\n",
    "This would be possible because we have explicit access to the formal parameter, and we can make it `const`. But in the real code, the `this` pointer is passed implicitly. But we need some way to indicate to the compiler that it should generate the implicitly passed `this` pointer of the type `const Example2*` rather than `Example2*`. This is accomplished using the following notation:\n",
    "\n",
    "```c++\n",
    "struct Example3 {\n",
    "    int x{}, y{};\n",
    "    auto mod() const -> int { return x * x + y * y; }\n",
    "};\n",
    "```\n",
    "With that, any attempt to change member variables in `mod()` would result in a compiler error."
   ]
  },
  {
   "cell_type": "code",
   "execution_count": 13,
   "id": "d8b51549",
   "metadata": {},
   "outputs": [
    {
     "name": "stderr",
     "output_type": "stream",
     "text": [
      "input_line_15:6:11: error: cannot assign to non-static data member within const member function 'mod'\n",
      "        x = x + y;\n",
      "        ~ ^\n",
      "input_line_15:3:10: note: member function 'Example3::mod' is declared const here\n",
      "    auto mod() const -> int \n",
      "    ~~~~~^~~~~~~~~~~~~~~~~~\n"
     ]
    },
    {
     "ename": "ename",
     "evalue": "evalue",
     "output_type": "error",
     "traceback": []
    }
   ],
   "source": [
    "struct Example3 {\n",
    "    int x{}, y{};\n",
    "    auto mod() const -> int \n",
    "    {\n",
    "        // careless change of member...\n",
    "        x = x + y;\n",
    "        return x * x + y * y; \n",
    "    }\n",
    "};"
   ]
  },
  {
   "cell_type": "markdown",
   "id": "2aeca42d",
   "metadata": {},
   "source": [
    "## Operator overloading\n",
    "\n",
    "For user defined types, we can define the meaning of operators such as `+`, `-`, `*`, `/`, `%`, `<<` ... For instance, we can define addition of two objects of the type `Example2` as follows:"
   ]
  },
  {
   "cell_type": "markdown",
   "id": "8c182a0d",
   "metadata": {},
   "source": [
    "```c++\n",
    "auto operator+(const Example2& e1, const Example2& e2) -> Example2\n",
    "{\n",
    "    return {e1.x + e2.x, e1.y + e2.y};\n",
    "}\n",
    "```\n",
    "However, this is incorrectly not accepted by the jupyter-cling environment. Making the operator into a member function allows this to be executed in this interpreter. In real life code, the free standing operator above, being more symmetric between the two operands, is more elegant and preferable. For now, let's see how operator overloading looks like in practice..."
   ]
  },
  {
   "cell_type": "code",
   "execution_count": 14,
   "id": "5f143d03",
   "metadata": {},
   "outputs": [
    {
     "data": {
      "text/plain": []
     },
     "execution_count": 14,
     "metadata": {},
     "output_type": "execute_result"
    }
   ],
   "source": [
    "struct Example4 {\n",
    "    int x{}, y{};\n",
    "    auto mod() -> int { return x * x + y * y; }\n",
    "    auto operator+(const Example4& other) const -> Example4\n",
    "    {\n",
    "        return {x + other.x, y + other.y };\n",
    "    }\n",
    "};"
   ]
  },
  {
   "cell_type": "code",
   "execution_count": 15,
   "id": "a6f6832a",
   "metadata": {},
   "outputs": [
    {
     "name": "stdout",
     "output_type": "stream",
     "text": [
      "c = [13, 24]\n"
     ]
    },
    {
     "data": {
      "text/plain": []
     },
     "execution_count": 15,
     "metadata": {},
     "output_type": "execute_result"
    }
   ],
   "source": [
    "{\n",
    "    Example4 a{10, 20}, b{3, 4};\n",
    "    auto c = a + b;\n",
    "    std::cout << \"c = [\" << c.x << \", \" << c.y << \"]\\n\";\n",
    "}"
   ]
  },
  {
   "cell_type": "markdown",
   "id": "e3e9d9d5",
   "metadata": {},
   "source": [
    "Being able to overload operators like this allows our class types to behave much like built in types. The overloaded operators need one argument from our class type. Many operators can be overloaded. Most versatile among them is perhaps the function call operator `()`. We can write a class, for which we have an overloaded `()` operator. That allows objects of that class to be used as if they were functions. Such entities are variously called functionals, function objects, function-like objects ..."
   ]
  },
  {
   "cell_type": "code",
   "execution_count": 18,
   "id": "7511ba61",
   "metadata": {},
   "outputs": [
    {
     "data": {
      "text/plain": []
     },
     "execution_count": 18,
     "metadata": {},
     "output_type": "execute_result"
    }
   ],
   "source": [
    "struct SineWave {\n",
    "    double amp{1.0}, ome{1.0}, pha{0.0};\n",
    "    auto operator()(double t) const noexcept -> double\n",
    "    {\n",
    "        return amp * sin(ome * t + pha);\n",
    "    }\n",
    "};"
   ]
  },
  {
   "cell_type": "markdown",
   "id": "392513c7",
   "metadata": {},
   "source": [
    "Notice how the interpreter accepts a trailing return type for the function in this case!\n",
    "\n",
    "We can create objects of this type, and use them as if they were functions...\n"
   ]
  },
  {
   "cell_type": "code",
   "execution_count": 19,
   "id": "6c9af4d5",
   "metadata": {},
   "outputs": [
    {
     "name": "stdout",
     "output_type": "stream",
     "text": [
      "0\t0.14776\t2.15207\t1.9477\n",
      "0.05\t0.150147\t2.29299\t1.92255\n",
      "0.1\t0.152529\t2.42267\t1.8926\n",
      "0.15\t0.154908\t2.5405\t1.85792\n",
      "0.2\t0.157283\t2.64587\t1.81859\n",
      "0.25\t0.159654\t2.73829\t1.77472\n",
      "0.3\t0.162022\t2.8173\t1.72642\n",
      "0.35\t0.164385\t2.88251\t1.6738\n",
      "0.4\t0.166744\t2.93359\t1.61699\n",
      "0.45\t0.169098\t2.97031\t1.55615\n",
      "0.5\t0.171449\t2.99248\t1.49141\n",
      "0.55\t0.173795\t3\t1.42295\n",
      "0.6\t0.176137\t2.99282\t1.35093\n",
      "0.65\t0.178475\t2.97098\t1.27553\n",
      "0.7\t0.180808\t2.93459\t1.19694\n",
      "0.75\t0.183136\t2.88383\t1.11537\n",
      "0.8\t0.18546\t2.81894\t1.031\n",
      "0.85\t0.18778\t2.74024\t0.944061\n",
      "0.9\t0.190094\t2.64812\t0.85476\n",
      "0.95\t0.192404\t2.54303\t0.763322\n",
      "1\t0.194709\t2.42549\t0.669976\n",
      "1.05\t0.197009\t2.29606\t0.574956\n",
      "1.1\t0.199305\t2.15539\t0.478499\n",
      "1.15\t0.201595\t2.00417\t0.380845\n",
      "1.2\t0.20388\t1.84312\t0.28224\n",
      "1.25\t0.20616\t1.67305\t0.182929\n",
      "1.3\t0.208435\t1.49478\t0.0831613\n",
      "1.35\t0.210705\t1.3092\t-0.0168145\n",
      "1.4\t0.21297\t1.1172\t-0.116748\n",
      "1.45\t0.215229\t0.919725\t-0.21639\n",
      "1.5\t0.217483\t0.717748\t-0.315491\n",
      "1.55\t0.219731\t0.512255\t-0.413804\n",
      "1.6\t0.221974\t0.304254\t-0.511082\n",
      "1.65\t0.224211\t0.0947622\t-0.607083\n",
      "1.7\t0.226443\t-0.115194\t-0.701566\n",
      "1.75\t0.228669\t-0.324585\t-0.794296\n",
      "1.8\t0.23089\t-0.532387\t-0.885041\n",
      "1.85\t0.233104\t-0.737582\t-0.973573\n",
      "1.9\t0.235313\t-0.939163\t-1.05967\n",
      "1.95\t0.237516\t-1.13614\t-1.14312\n"
     ]
    },
    {
     "data": {
      "text/plain": []
     },
     "execution_count": 19,
     "metadata": {},
     "output_type": "execute_result"
    }
   ],
   "source": [
    "SineWave S1{0.5, 0.1, 0.3}, S2{3.0, 1.4, 0.8}, S3{2.0, 1.0, 1.8};\n",
    "for (double t=0.; t < 2.0; t += 0.05)\n",
    "    std::cout << t << \"\\t\" << S1(t) << \"\\t\" << S2(t) << \"\\t\" << S3(t) << \"\\n\";"
   ]
  },
  {
   "cell_type": "code",
   "execution_count": null,
   "id": "af64d070-1caa-413d-bf07-67a976f3710d",
   "metadata": {},
   "outputs": [],
   "source": []
  }
 ],
 "metadata": {
  "kernelspec": {
   "display_name": "C++17",
   "language": "C++",
   "name": "cling-cpp17"
  },
  "language_info": {
   "codemirror_mode": "c++",
   "file_extension": ".c++",
   "mimetype": "text/x-c++src",
   "name": "c++"
  }
 },
 "nbformat": 4,
 "nbformat_minor": 5
}
