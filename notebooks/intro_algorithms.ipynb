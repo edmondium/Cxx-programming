{
 "cells": [
  {
   "cell_type": "markdown",
   "metadata": {},
   "source": [
    "# Operations on sequences with STL algorithms\n",
    "\n",
    "The following example demonstrates how to create and manipulate sequences using the algorithms in the header \"algorithm\". Try to predict the output when you execute the code in each of the cells below. Then execute the cell (Ctrl+Enter) and examine output, try to understand what the different algorithms do."
   ]
  },
  {
   "cell_type": "code",
   "execution_count": null,
   "metadata": {},
   "outputs": [],
   "source": [
    "#include <iostream>\n",
    "#include <vector>\n",
    "#include <algorithm>\n",
    "using namespace std;"
   ]
  },
  {
   "cell_type": "code",
   "execution_count": null,
   "metadata": {},
   "outputs": [],
   "source": [
    "vector v{1, 2, 3, 4, 5, 6, 7, 8, 9}, w{4, 5, 6, 7, 8, 9, 10, 11, 12, 13, 14, 15};\n",
    "vector<int> x, y, z, m;"
   ]
  },
  {
   "cell_type": "code",
   "execution_count": null,
   "metadata": {},
   "outputs": [],
   "source": [
    "if (is_sorted(begin(v), end(v)))\n",
    "    cout << \"The sequence is sorted in increasing order.\\n\";"
   ]
  },
  {
   "cell_type": "code",
   "execution_count": null,
   "metadata": {},
   "outputs": [],
   "source": [
    "reverse(v.begin(), v.end());\n",
    "v"
   ]
  },
  {
   "cell_type": "code",
   "execution_count": null,
   "metadata": {},
   "outputs": [],
   "source": [
    "v"
   ]
  },
  {
   "cell_type": "code",
   "execution_count": null,
   "metadata": {},
   "outputs": [],
   "source": [
    "rotate(v.begin(), v.begin()+3, v.end());\n",
    "v"
   ]
  },
  {
   "cell_type": "code",
   "execution_count": null,
   "metadata": {},
   "outputs": [],
   "source": [
    "sort(begin(v), end(v));\n",
    "v"
   ]
  },
  {
   "cell_type": "code",
   "execution_count": null,
   "metadata": {},
   "outputs": [],
   "source": [
    "merge(v.begin(), v.end(), w.begin(), w.end(), back_inserter(m));\n",
    "m"
   ]
  },
  {
   "cell_type": "code",
   "execution_count": null,
   "metadata": {},
   "outputs": [],
   "source": [
    "set_union(begin(v), end(v), begin(w), end(w), back_inserter(x));\n",
    "x"
   ]
  },
  {
   "cell_type": "code",
   "execution_count": null,
   "metadata": {},
   "outputs": [],
   "source": [
    "set_intersection(w.begin(), w.end(), v.begin(), v.end(), back_inserter(y));\n",
    "y"
   ]
  },
  {
   "cell_type": "code",
   "execution_count": null,
   "metadata": {},
   "outputs": [],
   "source": [
    "set_symmetric_difference(v.begin(), v.end(), w.begin(), w.end(), back_inserter(z));\n",
    "z"
   ]
  },
  {
   "cell_type": "code",
   "execution_count": null,
   "metadata": {},
   "outputs": [],
   "source": [
    "if (is_permutation(z.begin(), z.end(), v.begin(), v.end()))\n",
    "    cout << \"z is a permutation of v\\n\";\n",
    "else\n",
    "    cout << \"z is not a permutation of v\\n\";"
   ]
  },
  {
   "cell_type": "markdown",
   "metadata": {},
   "source": [
    "## Part 2:\n",
    "\n",
    "Many algorithms accept one or more \"callable\" objects as arguments. This could be a simple function as shown here ..."
   ]
  },
  {
   "cell_type": "code",
   "execution_count": null,
   "metadata": {},
   "outputs": [],
   "source": [
    "void print_it(int x) { std::cout << x << \"\\n\"; }\n",
    "for_each(begin(v), end(v), print_it);"
   ]
  },
  {
   "cell_type": "markdown",
   "metadata": {},
   "source": [
    "The callable object could also be a class with an overloaded `operator()` ..."
   ]
  },
  {
   "cell_type": "code",
   "execution_count": null,
   "metadata": {},
   "outputs": [],
   "source": [
    "struct show_squared {\n",
    "    void operator()(int x) const noexcept { std::cout << x * x << \"\\n\"; }\n",
    "};\n",
    "for_each(begin(v), end(v), show_squared{});"
   ]
  },
  {
   "cell_type": "code",
   "execution_count": null,
   "metadata": {},
   "outputs": [],
   "source": [
    "for_each(begin(v), end(v), show_squared{});"
   ]
  },
  {
   "cell_type": "markdown",
   "metadata": {},
   "source": [
    "Alternatively, one could use a lambda function ..."
   ]
  },
  {
   "cell_type": "code",
   "execution_count": null,
   "metadata": {},
   "outputs": [],
   "source": [
    "for_each(begin(v), end(v), [](int x){ std::cout << x * x << \"\\n\"; });"
   ]
  },
  {
   "cell_type": "code",
   "execution_count": null,
   "metadata": {},
   "outputs": [],
   "source": [
    "y.clear();\n",
    "copy(x.begin(), x.end(), back_inserter(y));\n",
    "y"
   ]
  },
  {
   "cell_type": "code",
   "execution_count": null,
   "metadata": {},
   "outputs": [],
   "source": [
    "z.clear();\n",
    "copy_if(x.begin(), x.end(), back_inserter(z), [](auto i){ return (i % 7) < 3; });\n",
    "z"
   ]
  },
  {
   "cell_type": "code",
   "execution_count": null,
   "metadata": {},
   "outputs": [],
   "source": [
    "z.clear();\n",
    "set_symmetric_difference(begin(v), end(v), begin(w), end(w), back_inserter(z));\n",
    "z"
   ]
  },
  {
   "cell_type": "code",
   "execution_count": null,
   "metadata": {},
   "outputs": [],
   "source": [
    "auto doubledigitsstart = find_if(begin(z), end(z), [](auto i){ return i > 9 or i < -9; });\n",
    "vector<int> filtered;\n",
    "copy(doubledigitsstart, end(z), back_inserter(filtered));\n",
    "filtered"
   ]
  },
  {
   "cell_type": "code",
   "execution_count": null,
   "metadata": {},
   "outputs": [],
   "source": [
    "x = v;\n",
    "reverse(x.begin(), x.end());\n",
    "y.clear();\n",
    "transform(begin(x), end(x), begin(v), back_inserter(y), [](auto i, auto j){ return i+j; });\n",
    "y"
   ]
  },
  {
   "cell_type": "code",
   "execution_count": null,
   "metadata": {},
   "outputs": [],
   "source": []
  }
 ],
 "metadata": {
  "kernelspec": {
   "display_name": "YourCXX",
   "language": "c++",
   "name": "yourcxx"
  },
  "language_info": {
   "codemirror_mode": "c++",
   "file_extension": ".c++",
   "mimetype": "text/x-c++src",
   "name": "c++"
  }
 },
 "nbformat": 4,
 "nbformat_minor": 4
}
