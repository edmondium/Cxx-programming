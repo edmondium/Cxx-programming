{
 "cells": [
  {
   "cell_type": "code",
   "execution_count": 1,
   "id": "5430e0a6",
   "metadata": {},
   "outputs": [
    {
     "data": {
      "text/plain": []
     },
     "execution_count": 1,
     "metadata": {},
     "output_type": "execute_result"
    }
   ],
   "source": [
    "#include <iostream>\n",
    "#include <cmath>"
   ]
  },
  {
   "cell_type": "code",
   "execution_count": 2,
   "id": "3ea21381",
   "metadata": {},
   "outputs": [
    {
     "data": {
      "text/plain": []
     },
     "execution_count": 2,
     "metadata": {},
     "output_type": "execute_result"
    }
   ],
   "source": [
    "#pragma cling add_include_path(\"/p/project/training2213/local/include\")"
   ]
  },
  {
   "cell_type": "markdown",
   "id": "437b9e73",
   "metadata": {},
   "source": [
    "## Functions\n",
    "\n",
    "As the last topic for this notebook on fundamental concepts, let's examine functions. Unlike what we have been doing in this interpreted environment, all executable code like, `1 + 1`, `std::cout << whatever`, `for` loops, `if` statements ... all such code must be inside functions in C++. Only declarations of global variables, class and function definitions and other similar things can occur outside function bodies. In fact, function definitions **can not be inside bodies of other functions**.\n",
    "\n",
    "Functions are recipes for calculating zero or more outputs from zero or more inputs.\n",
    "\n",
    "```c++\n",
    "auto func_name(double x) -> double\n",
    "{\n",
    "    if (x > 1.0 or x < -1.0) \n",
    "        return 0;\n",
    "    else \n",
    "        return (1 - x) * (1 - x);\n",
    "}\n",
    "```\n",
    "\n",
    "Any conceptually important input->output mapping can be made into a function. The top line in the function definition above, called its header, makes the input->output connections clear. Function inputs go in the parentheses `()`, and the output is written to the right of the input: `(inputs) -> output`. The older function syntax, shared with \"C\" is written as follows:\n",
    "```c++\n",
    "double func_name(double x)\n",
    "{\n",
    "    // recipe\n",
    "}\n",
    "```\n",
    "\n",
    "This is still valid, and in this notebook it is the only working syntax for functions. But I consider the newer syntax with output to the right clearer and preferable. Outside this notebook, that syntax should be favoured.\n",
    "\n",
    "### Side effects\n",
    "\n",
    "Functions may also have side effects on the global state of the program.\n",
    "\n",
    "```c++\n",
    "auto largest_squared_num = 0.;\n",
    "auto sqr(double x) -> double\n",
    "{\n",
    "    x = x * x;\n",
    "    if (x > largest_squared_num)\n",
    "        largest_squared_num = x;\n",
    "    return x;\n",
    "}\n",
    "```\n",
    "\n",
    "Every time we call the above function, there is a chance that we modify the global variable `largest_squared_num`. We can always look at the variable `largest_squared_num` to see the largest square calculated in the program so far. That value is not the \"result\" of the function, but it may change when we call `sqr`. That is called a side-effect. Any time you write something with `std::cout`, it is a side effect, because it changes the state of the global IO buffers. Side effects are sometimes necessary, or else we will not be able to write anything on the screen or in a file. Functions without any side-effects, strictly calculating an output from some inputs, are called \"pure\" functions. `func_name` above is a pure function. `sqr` above is not. Pure functions can be called simultaneously from any number of threads, and we can be confident that each of the calls will produce the right answer. If a function modifies global state, those modifications must be carefully orchestrated so that, multiple threads do not simultaneously modify a global variable, which can lead to incorrect or invalid states for those global variables.\n",
    "\n",
    "Using global constants does not modify global state, and hence does not have side effects.\n",
    "\n",
    "When a function is not meant to calculate and return any answer, its return type is written as `void`. Since `auto func(int i) -> void` looks somewhat awkward, we use the older syntax `void fun(int i)` for those functions. It helps distinguishing those \"procedures\" from other functions. A `void` returning function which is also pure, is simply some extra text. (no effects, no side-effects)\n",
    "\n",
    "If the formal parameter is an L-value reference, the function may change the value of the object used to initialize it. This is another kind of side effect. L-value reference parameters to a function can be considered **out**-parameters, or **in-out**-parameters.\n",
    "\n",
    "### Variable visibility\n",
    "\n",
    "The function bodies define a top level block scope. The only variables known in a function are\n",
    "\n",
    "    - those which are declared in the function\n",
    "    - input parameters\n",
    "    - global (namespace) scope variables\n",
    "    \n",
    "In particular, variables in the bodies of other functions are not available for use. The scoping rules, different control flow mechanisms you have learned so far can be used to write the recipe to calculate output values from inputs.\n",
    "\n",
    "Let's practice that!"
   ]
  },
  {
   "cell_type": "markdown",
   "id": "0374a317",
   "metadata": {},
   "source": [
    "### Exercise\n",
    "\n",
    "Write a function taking the distance between two particles and their masses as inputs, producing the Newtonian gravitational potential energy between them as the output. The Newtonian gravitational potential is given by $V(m_1, m_2, r) = -G\\frac{m_1 m_2}{r}$."
   ]
  },
  {
   "cell_type": "markdown",
   "id": "626a2f85",
   "metadata": {},
   "source": [
    "### Exercise\n",
    "\n",
    "We have a system of N particles so that their x, y, z positions and their masses are stored in `std::vector`s. Write a function to calculate the total gravitational potential energy of the system."
   ]
  },
  {
   "cell_type": "markdown",
   "id": "44002173",
   "metadata": {},
   "source": [
    "### Mental model for function calls"
   ]
  },
  {
   "cell_type": "markdown",
   "id": "5ba85507",
   "metadata": {},
   "source": [
    "To write good functions, one has to understand a little bit about what happens when we use (call) a function. Whenever we call a function, the recipe in the function body is executed. Let's illustrate by taking an example function where we add up the elements of an input `vector`:\n",
    "\n",
    "```c++\n",
    "auto addup(Something V) -> double\n",
    "{\n",
    "    double ans{};\n",
    "    for (auto&& elem: V) ans += elem;\n",
    "    return ans;\n",
    "}\n",
    "\n",
    "auto elsewhere()\n",
    "{\n",
    "    std::vector masses{1., 1., 1.2, 1.4, 0.9, 1.5, 1.1 };\n",
    "    std::vector charges{1.0, 1.0, 0.1, 0.1, 0.1, 0.1, 0.1};\n",
    "    std::cout << \"Total mass = \" << addup(masses) << \"\\n\";\n",
    "    std::cout << \"Total charge = \" << addup(masses) << \"\\n\";\n",
    "}\n",
    "\n",
    "```\n",
    "\n",
    "What happens in the line where we call `addup(masses)` ? Somehow the recipe for adding up the elements must be executed with the elements of the vector `masses` and not the vector `charges`. Similarly when we call `addup(charges)` the exact same recipe will be executed, but now `V` representing the `charges` vector. \n",
    "\n",
    "The variable `V` in the function header is called, in other languages, a formal argument or a dummy argument. Before the recipe of the function is executed, the formal arguments are initialised using the corresponding values in the function call expression. Here is the crucial point: **this initialisation is exactly like a variable initialisation from an expression!** We are essentially replacing `addup(masses)` by the result of the following procedure:\n",
    "\n",
    "```c++\n",
    "Something V{masses};\n",
    "double ans{};\n",
    "for (auto&& elem: V) ans += elem;\n",
    "result = ans;\n",
    "```\n",
    "\n",
    "This is why we spent such a long time discussing name stickers, duplicates and so on. Remember how we created duplicates ? To create a dupliate `vector` from a `vector`, you would write:\n",
    "\n",
    "```c++\n",
    "std::vector<double> duplicate{original};\n",
    "```\n",
    "\n",
    "If we substitute `Something` above with `std::vector<double>`, our pseudo-code recipe above would basically create a duplicate vector before adding its elements. Do we really need a duplicate vector to add the elements ?\n",
    "\n",
    "We learned how to create aliases. `std::vector<double>& alias{original};`. Aliases or references are extra name stickers attached to the same objects. If we substitute `Something` with `std::vector<double>&`, our pseudo-code recipe becomes,\n",
    "\n",
    "```c++\n",
    "std::vector<double>& V{masses};\n",
    "double ans{};\n",
    "for (auto&& elem: V) ans += elem;\n",
    "result = ans;\n",
    "```\n",
    "\n",
    "`V` becomes another name for `masses` when we are evaluating `addup(masses)`, and for `charges` when we are evaluating `addup(charges)`! This is good. But we can do better! Since the purpose of the `addup` function is to give us the sum, it makes no sense that it should change the `masses` or `charges`. We can make the `V` a constant reference, i.e., a read-only alias, so that we can be sure, that the function does not tamper with the masses. Thus,\n",
    "\n",
    "```c++\n",
    "auto addup(const std::vector<double>& V) -> double\n",
    "{\n",
    "    double ans{};\n",
    "    for (auto&& elem: V) ans += elem;\n",
    "    return ans;\n",
    "}\n",
    "```\n"
   ]
  },
  {
   "cell_type": "markdown",
   "id": "ef0ac830",
   "metadata": {},
   "source": [
    "### Quiz:\n",
    "\n",
    "Consider the very simple function below. Why does one of the attempts to use it work but the next one does not ?"
   ]
  },
  {
   "cell_type": "code",
   "execution_count": 3,
   "id": "bb0516a2",
   "metadata": {},
   "outputs": [
    {
     "data": {
      "text/plain": []
     },
     "execution_count": 3,
     "metadata": {},
     "output_type": "execute_result"
    }
   ],
   "source": [
    "int f1(int& i)\n",
    "{\n",
    "    return i + 2;\n",
    "}"
   ]
  },
  {
   "cell_type": "code",
   "execution_count": 4,
   "id": "4cc79b0b",
   "metadata": {},
   "outputs": [
    {
     "name": "stdout",
     "output_type": "stream",
     "text": [
      "4002\n"
     ]
    },
    {
     "data": {
      "text/plain": []
     },
     "execution_count": 4,
     "metadata": {},
     "output_type": "execute_result"
    }
   ],
   "source": [
    "{\n",
    "    int N{4000};\n",
    "    std::cout << f1(N) << \"\\n\"; // this works\n",
    "    // std::cout << f1(4000) << \"\\n\"; // this does not. Why ?\n",
    "}"
   ]
  },
  {
   "cell_type": "markdown",
   "id": "fa72103a",
   "metadata": {},
   "source": [
    "It is always possible to understand what works and does not work based on the mental picture discussed earlier. Function call involves initialisation of the formal function parameters using the call expression. We can not initialise a non-constant L-value reference (`int&` above) from a pure R-value (`4000`). Since a constant reference can not be used on the left side of an assignment, we can create such entites from pure values like `4000`.  "
   ]
  },
  {
   "cell_type": "code",
   "execution_count": 5,
   "id": "74bdf8ec",
   "metadata": {},
   "outputs": [
    {
     "data": {
      "text/plain": []
     },
     "execution_count": 5,
     "metadata": {},
     "output_type": "execute_result"
    }
   ],
   "source": [
    "const int& i{4000};"
   ]
  },
  {
   "cell_type": "markdown",
   "id": "a0e62ca4",
   "metadata": {},
   "source": [
    "Therefore, a function declared in terms of a `const` reference can accept normal names as well as values as inputs."
   ]
  },
  {
   "cell_type": "code",
   "execution_count": 6,
   "id": "a59a60b0",
   "metadata": {},
   "outputs": [
    {
     "data": {
      "text/plain": []
     },
     "execution_count": 6,
     "metadata": {},
     "output_type": "execute_result"
    }
   ],
   "source": [
    "int f2(const int&i)\n",
    "{\n",
    "    return i + 2;\n",
    "}"
   ]
  },
  {
   "cell_type": "code",
   "execution_count": 7,
   "id": "a73c5971",
   "metadata": {},
   "outputs": [
    {
     "name": "stdout",
     "output_type": "stream",
     "text": [
      "4002\n",
      "4002\n"
     ]
    },
    {
     "data": {
      "text/plain": []
     },
     "execution_count": 7,
     "metadata": {},
     "output_type": "execute_result"
    }
   ],
   "source": [
    "{\n",
    "    int N{4000};\n",
    "    std::cout << f2(N) << \"\\n\";\n",
    "    std::cout << f2(4000) << \"\\n\";\n",
    "}"
   ]
  },
  {
   "cell_type": "markdown",
   "id": "07ffaf77",
   "metadata": {},
   "source": [
    "### Quiz:\n",
    "\n",
    "Why does the `cout` in the loop below execute 10 times, even if we call the increment function in the loop ?"
   ]
  },
  {
   "cell_type": "code",
   "execution_count": 8,
   "id": "5d8a8feb",
   "metadata": {},
   "outputs": [
    {
     "data": {
      "text/plain": []
     },
     "execution_count": 8,
     "metadata": {},
     "output_type": "execute_result"
    }
   ],
   "source": [
    "void increment(int i)\n",
    "{\n",
    "    i = i + 1;\n",
    "}"
   ]
  },
  {
   "cell_type": "code",
   "execution_count": 9,
   "id": "bc01b57f",
   "metadata": {},
   "outputs": [
    {
     "name": "stdout",
     "output_type": "stream",
     "text": [
      "0\n",
      "1\n",
      "2\n",
      "3\n",
      "4\n",
      "5\n",
      "6\n",
      "7\n",
      "8\n",
      "9\n"
     ]
    },
    {
     "data": {
      "text/plain": []
     },
     "execution_count": 9,
     "metadata": {},
     "output_type": "execute_result"
    }
   ],
   "source": [
    "for (auto i = 0; i < 10; ++i) {\n",
    "    std::cout << i << \"\\n\";\n",
    "    increment(i);\n",
    "}"
   ]
  },
  {
   "cell_type": "markdown",
   "id": "8aa081a3",
   "metadata": {},
   "source": [
    "Using our mental model of function calls, the `increment` function looks like this:\n",
    "\n",
    "```c++\n",
    "int i_duplicate{i_original};\n",
    "i_duplicate = i_duplicate + 1;\n",
    "```\n",
    "\n",
    "As you can see, we are never touching the `i_original`, from inside the loop, inside the function. So, that `i` only gets incremented in the `for` loop. \n",
    "\n",
    "`TypeName varname{initialier}` *always* creates a new object, whether the initializer is a pure value, like `5` or the name of another variable, like `i`. That's what we arranged for, when we wrote our function input parameter as `int i`. \n",
    "\n",
    "How would you change the increment function so that it does not create a duplicate, but works on the same object that we pass it when calling the function ? Write a **different function with a different name** and test! If you do not give the function a different name, we get into \"ambiguous\" definitions, and the fascinating topic of function overloading in C++ (next section)."
   ]
  },
  {
   "cell_type": "markdown",
   "id": "e8c1dd60",
   "metadata": {},
   "source": [
    "## Function overloading\n",
    "\n",
    "It is possible to have multiple functions of the same human readable name, as long as they can be distinguished by the types of the input parameters.\n",
    "\n",
    "```c++\n",
    "auto power(double x, int i) -> double\n",
    "{\n",
    "    if (i == 0) return 1.;\n",
    "    bool inv = (i < 0);\n",
    "    auto ans = 1.;\n",
    "    i = std::abs(i);\n",
    "    for (auto j = 0; j < i; ++j) ans *= x;\n",
    "    if (inv) ans = 1.0/ans;\n",
    "    return ans;\n",
    "}\n",
    "\n",
    "auto power(double x, double y) -> double\n",
    "{\n",
    "    return std::exp(y * std::log(x));\n",
    "}\n",
    "\n",
    "void elsewhere()\n",
    "{\n",
    "    std::cout << power(3.14, 4) << \"\\n\"; // calls first version\n",
    "    std::cout << power(3.14, 4.) << \"\\n\"; // calls second version\n",
    "}\n",
    "```\n",
    "\n",
    "Let's see that in action, and discuss."
   ]
  },
  {
   "cell_type": "code",
   "execution_count": 10,
   "id": "3a1a2aa8",
   "metadata": {},
   "outputs": [
    {
     "data": {
      "text/plain": []
     },
     "execution_count": 10,
     "metadata": {},
     "output_type": "execute_result"
    }
   ],
   "source": [
    "double power(double x, int i)\n",
    "{\n",
    "    std::cout << \"Calculating integer power \" << i << \" of \" << x << \"\\n\";\n",
    "    if (i == 0) return 1.;\n",
    "    bool inv = (i < 0);\n",
    "    auto ans = 1.;\n",
    "    i = std::abs(i);\n",
    "    for (auto j = 0; j < i; ++j) ans *= x;\n",
    "    if (inv) ans = 1.0/ans;\n",
    "    return ans;\n",
    "}\n"
   ]
  },
  {
   "cell_type": "code",
   "execution_count": 11,
   "id": "b68c8550",
   "metadata": {},
   "outputs": [
    {
     "data": {
      "text/plain": []
     },
     "execution_count": 11,
     "metadata": {},
     "output_type": "execute_result"
    }
   ],
   "source": [
    "double power(double x, double y)\n",
    "{\n",
    "    std::cout << \"Calculating floating point power \" << y << \" of \" << x << \"\\n\";\n",
    "    if (x < 0.) throw std::runtime_error{\"Bad negative input for non-integral power.\" };\n",
    "    return std::exp(y * std::log(x));\n",
    "}"
   ]
  },
  {
   "cell_type": "code",
   "execution_count": 12,
   "id": "919888ee",
   "metadata": {},
   "outputs": [
    {
     "name": "stdout",
     "output_type": "stream",
     "text": [
      "Calculating floating point power 4 of 3.14\n"
     ]
    },
    {
     "data": {
      "text/plain": [
       "(double) 97.211712\n"
      ]
     },
     "execution_count": 12,
     "metadata": {},
     "output_type": "execute_result"
    }
   ],
   "source": [
    "power(3.14, 4.0);"
   ]
  },
  {
   "cell_type": "code",
   "execution_count": 13,
   "id": "76430f6d",
   "metadata": {},
   "outputs": [
    {
     "name": "stdout",
     "output_type": "stream",
     "text": [
      "Calculating integer power 4 of 3.14\n"
     ]
    },
    {
     "data": {
      "text/plain": [
       "(double) 97.211712\n"
      ]
     },
     "execution_count": 13,
     "metadata": {},
     "output_type": "execute_result"
    }
   ],
   "source": [
    "power(3.14, 4);"
   ]
  },
  {
   "cell_type": "markdown",
   "id": "37d3c1ce",
   "metadata": {},
   "source": [
    "We didn't have to invent different names like `power_double_int` and `power_double_double` for these functions. This is because that is conceptually what the compiler is doing for us! To the C++ compiler, the name of a function is not just the name by which you see it, but it is that name + the types of all the inputs to the function. Therefore, as far as the compiler is concerned, we declared two completely different functions above. How does the compiler know which one to invoke when we write an expression like `power(a, b)` ?\n",
    "\n",
    "Even at the call site, if `a` is a double and `b` is an integer, the compiler sees it as an attempt to call `power_double_int`. The existence of the other function does not matter. If `b` is a double, it is again, clear to the compiler! You want to call `power_double_double`, and the compiler knows what that is!\n",
    "\n",
    "`power` above is said to be an overloaded function with two overloads. The collection of all functions sharing the same human readable name and different input parameter types is called an \"overload set\".\n",
    "\n",
    "How much time does this kind of overloading cost when the program is running ?\n",
    "\n",
    "<h1>0.0 femtoseconds!</h1>\n",
    "\n",
    "The function overloading mechanism is a purely compile time process. In any C++ program, the compiler resolves the entire possible set of function calls ahead of time (Let's discuss *virtual* function calls in due time along with C++ classes). This decision, whether to call one or the other version of `power` is not happening at program execution time.\n",
    "\n",
    "It is important that the compiler is able to distinguish between the overloads. You can not have two versions of `power` each taking a `double` and `int`, but one handling positive integers and the other handling negative integrs. You might think that `double` and `int` are, of course, easy to tell apart. How similar can the type of the second input parameter be and still be used to overload `power` ?"
   ]
  },
  {
   "cell_type": "code",
   "execution_count": 14,
   "id": "01294e05",
   "metadata": {},
   "outputs": [
    {
     "data": {
      "text/plain": []
     },
     "execution_count": 14,
     "metadata": {},
     "output_type": "execute_result"
    }
   ],
   "source": [
    "double power(double x, short i)\n",
    "{\n",
    "    std::cout << \"A possible third implementation of the same function.\\n\";\n",
    "    return 0.; // We are just focussing on overload resolution right now.\n",
    "}"
   ]
  },
  {
   "cell_type": "code",
   "execution_count": 15,
   "id": "2bf951cf",
   "metadata": {},
   "outputs": [
    {
     "name": "stdout",
     "output_type": "stream",
     "text": [
      "Calculating integer power 2 of 3.14\n"
     ]
    },
    {
     "data": {
      "text/plain": [
       "(double) 9.8596000\n"
      ]
     },
     "execution_count": 15,
     "metadata": {},
     "output_type": "execute_result"
    }
   ],
   "source": [
    "power(3.14, 2);"
   ]
  },
  {
   "cell_type": "code",
   "execution_count": 16,
   "id": "e902b270",
   "metadata": {},
   "outputs": [
    {
     "name": "stdout",
     "output_type": "stream",
     "text": [
      "A possible third implementation of the same function.\n"
     ]
    },
    {
     "data": {
      "text/plain": [
       "(double) 0.0000000\n"
      ]
     },
     "execution_count": 16,
     "metadata": {},
     "output_type": "execute_result"
    }
   ],
   "source": [
    "power(3.14, short{2}); // There is no literal suffix for short."
   ]
  },
  {
   "cell_type": "code",
   "execution_count": 17,
   "id": "d9121962",
   "metadata": {},
   "outputs": [
    {
     "data": {
      "text/plain": []
     },
     "execution_count": 17,
     "metadata": {},
     "output_type": "execute_result"
    }
   ],
   "source": [
    "double power(double x, long i)\n",
    "{\n",
    "    std::cout << \"double to the power long\\n\";\n",
    "    return 0.; // Just focussing on overload resolution...\n",
    "}"
   ]
  },
  {
   "cell_type": "code",
   "execution_count": 18,
   "id": "7d3db026",
   "metadata": {},
   "outputs": [
    {
     "name": "stdout",
     "output_type": "stream",
     "text": [
      "double to the power long\n"
     ]
    },
    {
     "data": {
      "text/plain": [
       "(double) 0.0000000\n"
      ]
     },
     "execution_count": 18,
     "metadata": {},
     "output_type": "execute_result"
    }
   ],
   "source": [
    "power(3.14, 2L); // There is a literal suffix for long"
   ]
  },
  {
   "cell_type": "code",
   "execution_count": 19,
   "id": "fc9ac67c",
   "metadata": {},
   "outputs": [
    {
     "data": {
      "text/plain": []
     },
     "execution_count": 19,
     "metadata": {},
     "output_type": "execute_result"
    }
   ],
   "source": [
    "double power(double x, unsigned long i)\n",
    "{\n",
    "    std::cout << \"double to the power unsigned long\\n\";\n",
    "    return 0.; // Just focussing on overload resolution...\n",
    "}"
   ]
  },
  {
   "cell_type": "code",
   "execution_count": 20,
   "id": "39faaaf8",
   "metadata": {},
   "outputs": [
    {
     "name": "stdout",
     "output_type": "stream",
     "text": [
      "double to the power unsigned long\n"
     ]
    },
    {
     "data": {
      "text/plain": [
       "(double) 0.0000000\n"
      ]
     },
     "execution_count": 20,
     "metadata": {},
     "output_type": "execute_result"
    }
   ],
   "source": [
    "power(3.14, 2UL);"
   ]
  },
  {
   "cell_type": "code",
   "execution_count": 21,
   "id": "67864b73",
   "metadata": {},
   "outputs": [
    {
     "name": "stdout",
     "output_type": "stream",
     "text": [
      "Calculating floating point power 2 of 3.14\n"
     ]
    },
    {
     "data": {
      "text/plain": [
       "(double) 9.8596000\n"
      ]
     },
     "execution_count": 21,
     "metadata": {},
     "output_type": "execute_result"
    }
   ],
   "source": [
    "power(3.14, 2.);"
   ]
  },
  {
   "cell_type": "code",
   "execution_count": 22,
   "id": "8f4d0059",
   "metadata": {},
   "outputs": [
    {
     "name": "stdout",
     "output_type": "stream",
     "text": [
      "Calculating integer power 8 of 3.14\n"
     ]
    },
    {
     "data": {
      "text/plain": [
       "(double) 9450.1170\n"
      ]
     },
     "execution_count": 22,
     "metadata": {},
     "output_type": "execute_result"
    }
   ],
   "source": [
    "power(3.14, 8);"
   ]
  },
  {
   "cell_type": "code",
   "execution_count": 23,
   "id": "5fcecf52",
   "metadata": {},
   "outputs": [
    {
     "name": "stdout",
     "output_type": "stream",
     "text": [
      "A possible third implementation of the same function.\n"
     ]
    },
    {
     "data": {
      "text/plain": [
       "(double) 0.0000000\n"
      ]
     },
     "execution_count": 23,
     "metadata": {},
     "output_type": "execute_result"
    }
   ],
   "source": [
    "power(3.14, short{8});"
   ]
  },
  {
   "cell_type": "code",
   "execution_count": 24,
   "id": "183bf148",
   "metadata": {},
   "outputs": [
    {
     "name": "stdout",
     "output_type": "stream",
     "text": [
      "double to the power long\n"
     ]
    },
    {
     "data": {
      "text/plain": [
       "(double) 0.0000000\n"
      ]
     },
     "execution_count": 24,
     "metadata": {},
     "output_type": "execute_result"
    }
   ],
   "source": [
    "power(3.14, 8L);"
   ]
  },
  {
   "cell_type": "code",
   "execution_count": 25,
   "id": "41595dff",
   "metadata": {},
   "outputs": [
    {
     "name": "stdout",
     "output_type": "stream",
     "text": [
      "Calculating integer power 2 of 3.14\n"
     ]
    },
    {
     "data": {
      "text/plain": [
       "(double) 9.8596000\n"
      ]
     },
     "execution_count": 25,
     "metadata": {},
     "output_type": "execute_result"
    }
   ],
   "source": [
    "char c{2};\n",
    "power(3.14, c);"
   ]
  },
  {
   "cell_type": "markdown",
   "id": "894dc241",
   "metadata": {},
   "source": [
    "Above, we did not write a version of the overload for the `char` type. In this case, the compiler tries \"integer promotion\" to promote our `char` input into an `int` and uses the `int` version. All shorter than 32 bit integers are promoted to the \"natural\" 32 bit integers on current implementations."
   ]
  },
  {
   "cell_type": "code",
   "execution_count": 26,
   "id": "62ad7ce2",
   "metadata": {},
   "outputs": [
    {
     "name": "stdout",
     "output_type": "stream",
     "text": [
      "Calculating floating point power 0.77 of 3.14\n"
     ]
    },
    {
     "data": {
      "text/plain": [
       "(double) 2.4134362\n"
      ]
     },
     "execution_count": 26,
     "metadata": {},
     "output_type": "execute_result"
    }
   ],
   "source": [
    "double p{0.77};\n",
    "power(3.14, p);"
   ]
  },
  {
   "cell_type": "markdown",
   "id": "15c1f21c",
   "metadata": {},
   "source": [
    "Now let's examine overloading, but this time with functions taking references as formal parameters."
   ]
  },
  {
   "cell_type": "code",
   "execution_count": 27,
   "id": "feb3cd48",
   "metadata": {},
   "outputs": [
    {
     "data": {
      "text/plain": []
     },
     "execution_count": 27,
     "metadata": {},
     "output_type": "execute_result"
    }
   ],
   "source": [
    "void expt(double& x)\n",
    "{\n",
    "    std::cout << \"Version accepting mutable L-value reference\\n\";\n",
    "}"
   ]
  },
  {
   "cell_type": "code",
   "execution_count": 28,
   "id": "bb457ada",
   "metadata": {},
   "outputs": [
    {
     "data": {
      "text/plain": []
     },
     "execution_count": 28,
     "metadata": {},
     "output_type": "execute_result"
    }
   ],
   "source": [
    "void expt(const double& x)\n",
    "{\n",
    "    std::cout << \"Version accepting constant L-value reference\\n\";\n",
    "}"
   ]
  },
  {
   "cell_type": "code",
   "execution_count": 29,
   "id": "0e404eae",
   "metadata": {},
   "outputs": [
    {
     "name": "stdout",
     "output_type": "stream",
     "text": [
      "Version accepting constant L-value reference\n"
     ]
    },
    {
     "data": {
      "text/plain": [
       "(void) @0x7f226d7f8dc0\n"
      ]
     },
     "execution_count": 29,
     "metadata": {},
     "output_type": "execute_result"
    }
   ],
   "source": [
    "expt(0.);"
   ]
  },
  {
   "cell_type": "code",
   "execution_count": 30,
   "id": "77fb5e56",
   "metadata": {},
   "outputs": [
    {
     "data": {
      "text/plain": []
     },
     "execution_count": 30,
     "metadata": {},
     "output_type": "execute_result"
    }
   ],
   "source": [
    "double x = 9.8;"
   ]
  },
  {
   "cell_type": "code",
   "execution_count": 31,
   "id": "3c72431d",
   "metadata": {},
   "outputs": [
    {
     "name": "stdout",
     "output_type": "stream",
     "text": [
      "Version accepting mutable L-value reference\n"
     ]
    },
    {
     "data": {
      "text/plain": [
       "(void) nullptr\n"
      ]
     },
     "execution_count": 31,
     "metadata": {},
     "output_type": "execute_result"
    }
   ],
   "source": [
    "expt(x);"
   ]
  },
  {
   "cell_type": "code",
   "execution_count": 32,
   "id": "77a82bde",
   "metadata": {},
   "outputs": [
    {
     "name": "stdout",
     "output_type": "stream",
     "text": [
      "Memory address of the object for x : 139786145235008\n",
      "Memory address of the object for y : 139786145235008\n",
      "Memory address of the object for z : 139786145235008\n",
      "Version accepting mutable L-value reference\n",
      "Version accepting constant L-value reference\n",
      "Version accepting mutable L-value reference\n",
      "Version accepting constant L-value reference\n"
     ]
    },
    {
     "data": {
      "text/plain": [
       "(void) @0x7f226d7f8dc0\n"
      ]
     },
     "execution_count": 32,
     "metadata": {},
     "output_type": "execute_result"
    }
   ],
   "source": [
    "const double& y{x};\n",
    "double& z{x};\n",
    "std::cout << \"Memory address of the object for x : \" << (size_t)std::addressof(x) << \"\\n\"; \n",
    "std::cout << \"Memory address of the object for y : \" << (size_t)std::addressof(y) << \"\\n\"; \n",
    "std::cout << \"Memory address of the object for z : \" << (size_t)std::addressof(z) << \"\\n\";\n",
    "expt(x);\n",
    "expt(y);\n",
    "expt(z);\n",
    "expt(z + y);"
   ]
  },
  {
   "cell_type": "markdown",
   "id": "b8ba1a1a",
   "metadata": {},
   "source": [
    "As you can see, we can have two different versions of the `expt` function, one accepting a normal, mutable, L-value reference, and another constant L-value reference. When we call the function, depending on the nature of the expression used to call the function, one or the other version is called. Notice that the identifiers `x`, `y` and `z` all identify the same entity in the computer's memory. But one of them, `y` is a read-only identifier. When calling `expt`, the version invoked is based on whether we have a mutable identifier or an immutable entity in the argument at the call site."
   ]
  },
  {
   "cell_type": "code",
   "execution_count": 33,
   "id": "4f1f7a67",
   "metadata": {},
   "outputs": [
    {
     "data": {
      "text/plain": []
     },
     "execution_count": 33,
     "metadata": {},
     "output_type": "execute_result"
    }
   ],
   "source": [
    "void expt2(double& x)\n",
    "{\n",
    "    std::cout << \"Version accepting mutable L-value reference\\n\";\n",
    "}"
   ]
  },
  {
   "cell_type": "code",
   "execution_count": 34,
   "id": "8297bbc9",
   "metadata": {},
   "outputs": [
    {
     "data": {
      "text/plain": []
     },
     "execution_count": 34,
     "metadata": {},
     "output_type": "execute_result"
    }
   ],
   "source": [
    "void expt2(const double& x)\n",
    "{\n",
    "    std::cout << \"Version accepting constant L-value reference\\n\";\n",
    "}"
   ]
  },
  {
   "cell_type": "code",
   "execution_count": 35,
   "id": "5e00a08a",
   "metadata": {},
   "outputs": [
    {
     "data": {
      "text/plain": []
     },
     "execution_count": 35,
     "metadata": {},
     "output_type": "execute_result"
    }
   ],
   "source": [
    "void expt2(double x)\n",
    "{\n",
    "    std::cout << \"Version where the formal argument is a value\\n\";\n",
    "}"
   ]
  },
  {
   "cell_type": "code",
   "execution_count": 36,
   "id": "b4d15693",
   "metadata": {},
   "outputs": [
    {
     "name": "stderr",
     "output_type": "stream",
     "text": [
      "input_line_39:2:2: error: call to 'expt2' is ambiguous\n",
      " expt2(3.0);\n",
      " ^~~~~\n",
      "input_line_37:1:6: note: candidate function\n",
      "void expt2(const double& x)\n",
      "     ^\n",
      "input_line_38:1:6: note: candidate function\n",
      "void expt2(double x)\n",
      "     ^\n"
     ]
    },
    {
     "ename": "ename",
     "evalue": "evalue",
     "output_type": "error",
     "traceback": []
    }
   ],
   "source": [
    "expt2(3.0);"
   ]
  },
  {
   "cell_type": "code",
   "execution_count": 37,
   "id": "74028319",
   "metadata": {},
   "outputs": [
    {
     "name": "stderr",
     "output_type": "stream",
     "text": [
      "input_line_40:2:2: error: call to 'expt2' is ambiguous\n",
      " expt2(x);\n",
      " ^~~~~\n",
      "input_line_36:1:6: note: candidate function\n",
      "void expt2(double& x)\n",
      "     ^\n",
      "input_line_37:1:6: note: candidate function\n",
      "void expt2(const double& x)\n",
      "     ^\n",
      "input_line_38:1:6: note: candidate function\n",
      "void expt2(double x)\n",
      "     ^\n"
     ]
    },
    {
     "ename": "ename",
     "evalue": "evalue",
     "output_type": "error",
     "traceback": []
    }
   ],
   "source": [
    "expt2(x);"
   ]
  },
  {
   "cell_type": "markdown",
   "id": "557ed962",
   "metadata": {},
   "source": [
    "As you can see, having a version with a value and another with a reference leads to ambiguities. The compiler can not distinguish between a pure value and a constant reference at the call site. Avoid overloading between plain types and references."
   ]
  },
  {
   "cell_type": "markdown",
   "id": "0419be43",
   "metadata": {},
   "source": [
    "## Recursion\n",
    "\n",
    "Remember the self-referencial definition of the factorial function in mathematics ? \n",
    "\n",
    "$$\n",
    "N! = \\left\\{\n",
    "    \\begin{array}\\\\\n",
    "        N\\times (N-1)! & \\mbox{if } \\ N > \\mathbf{1} \\\\\n",
    "        1 & \\mbox{if } \\ N = \\mathbf{0}\\,or\\,\\mathbf{1} \n",
    "    \\end{array}\n",
    "\\right.\n",
    "$$\n",
    "\n",
    "The exact same thing can be expressed in a C++ function (this is a syntax explanation. I am not recommending writing factorial this way!).\n",
    "\n",
    "```c++\n",
    "auto factorial(unsigned int N) -> unsigned int\n",
    "{\n",
    "    return (N > 1U) ? N * factorial(N - 1U) : 1U;\n",
    "}\n",
    "```\n",
    "We used the ternary operator to compactly express the following:\n",
    "\n",
    "```c++\n",
    "if (N > 1U)\n",
    "    return N * factorial(N - 1U);\n",
    "else\n",
    "    return 1U;\n",
    "```\n",
    "\n",
    "This type of expression, when a function calls itself from its own body, is called recursion. Recursive functions can sometimes be used to express complex tasks, such as tree processing, elegantly and compactly. But they also illustrate an important point: local variables as well as formal arguments of a function are private to a particular call. I refer you to the section 2.2.4.1 (\"Whiteboard stack\") for a more extended discussion. Right now, let's just rig our factorial function so that we can see this: "
   ]
  },
  {
   "cell_type": "code",
   "execution_count": 38,
   "id": "11c4fe1a",
   "metadata": {},
   "outputs": [
    {
     "data": {
      "text/plain": []
     },
     "execution_count": 38,
     "metadata": {},
     "output_type": "execute_result"
    }
   ],
   "source": [
    "unsigned int factorial(unsigned int N)\n",
    "{\n",
    "    std::cout << \"Evaluating factorial of \" << N << \"\\tParameter stored at address \" << (size_t)(&N) <<\"\\n\";\n",
    "    if (N <= 1U) {\n",
    "        std::cout << \"No need for recursive calls. Returning 1\\n\";\n",
    "        return 1U;\n",
    "    } else {\n",
    "        std::cout << \"Starting recursive call from level \" << N << \"\\n\";\n",
    "        unsigned int rest = factorial(N-1);\n",
    "        std::cout << \"At level N = \" << N << \", with factorial of the rest = \" \n",
    "            << rest << \" stored at \" << &rest << \"\\n\";\n",
    "        return N * rest;\n",
    "    }\n",
    "}"
   ]
  },
  {
   "cell_type": "code",
   "execution_count": 39,
   "id": "59121ac6",
   "metadata": {},
   "outputs": [
    {
     "name": "stdout",
     "output_type": "stream",
     "text": [
      "Evaluating factorial of 4\tParameter stored at address 139785842691624\n",
      "Starting recursive call from level 4\n",
      "Evaluating factorial of 3\tParameter stored at address 139785842691576\n",
      "Starting recursive call from level 3\n",
      "Evaluating factorial of 2\tParameter stored at address 139785842691528\n",
      "Starting recursive call from level 2\n",
      "Evaluating factorial of 1\tParameter stored at address 139785842691480\n",
      "No need for recursive calls. Returning 1\n",
      "At level N = 2, with factorial of the rest = 1 stored at 0x7f226d7f8dc4\n",
      "At level N = 3, with factorial of the rest = 2 stored at 0x7f226d7f8df4\n",
      "At level N = 4, with factorial of the rest = 6 stored at 0x7f226d7f8e24\n"
     ]
    },
    {
     "data": {
      "text/plain": [
       "(unsigned int) 24\n"
      ]
     },
     "execution_count": 39,
     "metadata": {},
     "output_type": "execute_result"
    }
   ],
   "source": [
    "factorial(4);"
   ]
  },
  {
   "cell_type": "markdown",
   "id": "0987873a",
   "metadata": {},
   "source": [
    "Notice how for each level of recursion, the parameter values were stored at different locations. Each **call** to a function has its own separate working area to store its formal parameters, local variables etc. This area is called the \"stack frame\" of a function. When a function returns, its stack frame is reused for subsequent function calls. This is why there is no danger that the local variable `rest` for one level of the factorial will be erased or overwirtten by the calculation from another level."
   ]
  },
  {
   "cell_type": "markdown",
   "id": "ed2541fc",
   "metadata": {},
   "source": [
    "## Multiple output values\n",
    "\n",
    "Syntactically, a C++ function has a single return type. There can be multiple return statements as in the `factorial` function above, but they must all return the same type of object. What if we need to return more than one output from a function ? There are many ways of doing that:\n",
    "\n",
    "    - We can use non-constant L-value reference parameters, and assign to those parameters in the function\n",
    "    - The function can return a `tuple` containing those different types\n",
    "    - Multiple outputs can be bundled together in a `struct` or `class`\n",
    "    \n",
    "Let's illustrate that using a simple integer division function. We divide two integer inputs. The answer we seek are both quotient and remainder. \n",
    "\n",
    "In the first approach, our function could look like this:\n",
    "\n",
    "```c++\n",
    "auto integer_division(int L, int R, int& q, int& r) -> int\n",
    "{\n",
    "    q = L / R;\n",
    "    r = L % R;\n",
    "    return q;\n",
    "}\n",
    "```\n",
    "This approach has been in use for a long time. To use this, we have to do something like this:\n",
    "\n",
    "```c++\n",
    "void elsewhere()\n",
    "{\n",
    "    int num1{somevalue}, num2{anothervalue};\n",
    "    int quotvar, remvar;\n",
    "    integer_division(num1, num2, quotvar, remvar);\n",
    "    std::cout << \"Quotient = \" << quotvar << \", remainder = \" << remvar << \"\\n\";\n",
    "}\n",
    "```\n",
    "\n",
    "The L-value reference parameters ensure that the assignments to `q` and `r` done inside the function are performed on `quotvar` and `remvar`. It works. But it obscures the distinction between the inputs and outputs for the function. It is easy to get confused about which arguments are inputs and which are outputs. The second approach looks like this:\n",
    "\n",
    "```c++\n",
    "auto integer_division(int L, int R) -> std::tuple<int, int>\n",
    "{\n",
    "    return std::make_tuple(L / R, L % R);\n",
    "}\n",
    "\n",
    "void elsewhere()\n",
    "{\n",
    "    int num1{somevalue}, num2{anothervalue};\n",
    "    auto [quotvar, remvar] = integer_division(num1, num2);\n",
    "    std::cout << \"Quotient = \" << quotvar << \", remainder = \" << remvar << \"\\n\";\n",
    "}\n",
    "```\n",
    "\n",
    "There is no confusion regarding the inputs and outputs for this function. The output of the function is a tuple, but we can kind of \"unpack\" it using the notation shown. If we did not use the structured binding notation of `auto [name1, name2 ...] = tuple`, we will receive a tuple as the output. One can access the components of the tuple, but the notation is not as elegant:\n",
    "\n",
    "```c++\n",
    "void elsewhere()\n",
    "{\n",
    "    int num1{somevalue}, num2{anothervalue};\n",
    "    auto res = integer_division(num1, num2);\n",
    "    std::cout << \"Quotient = \" << std::get<0>(res) << \", remainder = \" << std::get<1>(res) << \"\\n\";\n",
    "}\n",
    "```\n",
    "\n",
    "The third approach needs us to define a `struct` to staple together the values we want to receive as output.\n",
    "\n",
    "```c++\n",
    "struct div_result_type\n",
    "{\n",
    "    int quotient;\n",
    "    int remainder;\n",
    "};\n",
    "```\n",
    "\n",
    "`div_result_type` then becomes a new data type. One can create variables of this type. Each of those variables will have a \"member\" called quotient and another member called remainder. The members can be accessed using a dot notation :\n",
    "```c++\n",
    "div_result_type res{v1, v2};\n",
    "// ...\n",
    "if (res.quotient > res.remainder)\n",
    "    do_something();\n",
    "```\n",
    "\n",
    "Our `integer_division` function can then be written as:\n",
    "\n",
    "```c++\n",
    "auto integer_division(int L, int R) -> div_result_type\n",
    "{\n",
    "    return { L / R, L % R };\n",
    "}\n",
    "\n",
    "void elsewhere()\n",
    "{\n",
    "    int num1{somevalue}, num2{anothervalue};\n",
    "    auto res = integer_division(num1, num2);\n",
    "    std::cout << \"Quotient = \" << res.quotient << \", remainder = \" << res.remainder << \"\\n\";\n",
    "    // alternatively\n",
    "    auto [q, r] = integer_division(num1, num2);\n",
    "    std::cout << \"Quotient = \" << q << \", remainder = \" << r << \"\\n\";\n",
    "}\n",
    "\n",
    "```\n",
    "\n",
    "This third approach involves one extra step when writing the function: creation of the `struct` representing the output type. It can be used with a structured binding declaration like a `tuple`. But there is a subtle advantage. With the tuple, we have to look at the code to see which component is the quotient and which one is the remainder. The fields of a tuple are simply \"first field\", \"second field\" ... They have no names. The implementer of the function can not indicate their intent about which field is what. One has to rely on \"documentation\": one of the most error prone ways known to mankind to determine the purpose of tuple components! In the `struct` approach, there can be descriptive names, so that the meaning of the fields is clear.\n",
    "\n"
   ]
  },
  {
   "cell_type": "code",
   "execution_count": null,
   "id": "5b5ed59d",
   "metadata": {},
   "outputs": [],
   "source": []
  }
 ],
 "metadata": {
  "kernelspec": {
   "display_name": "C++17",
   "language": "C++",
   "name": "cling-cpp17"
  },
  "language_info": {
   "codemirror_mode": "c++",
   "file_extension": ".c++",
   "mimetype": "text/x-c++src",
   "name": "c++"
  }
 },
 "nbformat": 4,
 "nbformat_minor": 5
}
