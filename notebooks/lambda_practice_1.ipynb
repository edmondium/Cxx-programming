{
 "cells": [
  {
   "cell_type": "code",
   "execution_count": 1,
   "id": "e7b04ecc",
   "metadata": {},
   "outputs": [
    {
     "data": {
      "text/plain": []
     },
     "execution_count": 1,
     "metadata": {},
     "output_type": "execute_result"
    }
   ],
   "source": [
    "#pragma cling add_include_path(\"/p/project/training2213/local/include\")\n",
    "#include <iostream>\n",
    "#include <vector>\n",
    "#include <algorithm>\n",
    "#include <boost/type_index.hpp>\n",
    "#include \"Vbose.hh\"\n",
    "template <class T>\n",
    "void typeof(T&& t) {\n",
    "    std::cout << \"Type name: \" << boost::typeindex::type_id_with_cvr<T>().pretty_name() << \"\\n\";\n",
    "}"
   ]
  },
  {
   "cell_type": "markdown",
   "id": "9d7b6595",
   "metadata": {},
   "source": [
    "# Lambda functions: captures\n",
    "\n",
    "## When\n",
    "\n",
    "Variables which can be used inside lambda functions are those declared inside the lambda function, its formal arguments, global variables and variables captured by the capture brackets. Variables captured with `=` captures are copied into the lambda function. When does the copy take place ? Immediately when the lambda is declared or at the point when it is used ? How often does the copy happen, if we declare it once, but use it in a loop two million times ? Does `[=]` capture copy every variable defined in the context of the lambda function in to the lambda ? We will use the `Vbose` class to explore..."
   ]
  },
  {
   "cell_type": "code",
   "execution_count": 2,
   "id": "1e7328f5",
   "metadata": {},
   "outputs": [
    {
     "name": "stdout",
     "output_type": "stream",
     "text": [
      "Constructor of object at 140514652397128, using string \"dinosaur\"\n",
      "Constructor of object at 140514652397040, using string \"fish\"\n",
      "Declaring lambda function {\n",
      "Copy constructor of object at 140514652396968. Source for copy is at 140514652397128\n",
      "Declaring lambda function }\n",
      "Changing internal value of object at 140514652397128 from dinosaur to bird\n",
      "Calling lambda function {\n",
      "5 -> \n",
      "In lambda function, captured value of locvar is : dinosaur\n",
      "125\n",
      "Calling lambda function }\n",
      "Calling lambda function {\n",
      "5 -> \n",
      "In lambda function, captured value of locvar is : dinosaur\n",
      "125\n",
      "Calling lambda function }\n",
      "Calling lambda function {\n",
      "5 -> \n",
      "In lambda function, captured value of locvar is : dinosaur\n",
      "125\n",
      "Calling lambda function }\n",
      "Calling lambda function {\n",
      "5 -> \n",
      "In lambda function, captured value of locvar is : dinosaur\n",
      "125\n",
      "Calling lambda function }\n",
      "Calling lambda function {\n",
      "5 -> \n",
      "In lambda function, captured value of locvar is : dinosaur\n",
      "125\n",
      "Calling lambda function }\n",
      "Destructor of object at 140514652396968 with data \"dinosaur\"\n",
      "Destructor of object at 140514652397040 with data \"fish\"\n",
      "Destructor of object at 140514652397128 with data \"bird\"\n"
     ]
    },
    {
     "data": {
      "text/plain": []
     },
     "execution_count": 2,
     "metadata": {},
     "output_type": "execute_result"
    }
   ],
   "source": [
    "{\n",
    "    Vbose locvar{ \"dinosaur\" }, anothervar{\"fish\"};\n",
    "    std::cout << \"Declaring lambda function {\\n\";\n",
    "    auto lambda = [=](int i) {\n",
    "        std::cout << \"\\nIn lambda function, captured value of locvar is : \"\n",
    "                  << locvar.getval() << \"\\n\";\n",
    "        return i * i * i;\n",
    "    };\n",
    "    std::cout << \"Declaring lambda function }\\n\";\n",
    "\n",
    "    locvar.value(\"bird\");\n",
    "    for (int i = 0; i < 5; ++i) {\n",
    "        std::cout << \"Calling lambda function {\\n\";\n",
    "        std::cout << 5 << \" -> \" << lambda(5) << \"\\n\";\n",
    "        std::cout << \"Calling lambda function }\\n\";        \n",
    "    }\n",
    "}\n"
   ]
  },
  {
   "cell_type": "markdown",
   "id": "04c99e3d",
   "metadata": {},
   "source": [
    "How often did the copy operation for the captured variables occur inside the loop ? How did the change of the variable `locvar` after the declaration of the lambda reflect itself inside the lambda function, when it was called in the loop ? How do these results change if you use reference capture rather than value capture ?"
   ]
  },
  {
   "cell_type": "markdown",
   "id": "79d13085",
   "metadata": {},
   "source": [
    "In the following, we examine the effects of the `mutable` keyword for lambdas. The callable objects created when the lambda expression is evaluated are by default `const`. Imagine that the compiler is automatically generating a class with an overloaded function call operator, `operator()`. The captured variables are the arguments given to the constructor. By default, the `operator()` is `const` qualified, so that the callable object may not change state, i.e., the internal copies of the captured variables it creates in its constructor can not change when the lambda is used. However, declaring the lambda as `mutable` creates a non-constant function call operator. In this case, if any of the captured values are changed inside the lambda function call, those changes survive from call to call.\n",
    "\n",
    "Mutable lambdas are also often used in connection with init-captures. We declare a new variable in the capture bracket, using an expression to initialize it. For instance `[i = 0UL]()mutable {}` makes a variable `i` available inside the lambda, but that variable is not something that was present in the surrounding scope, but was created along with the lambda, in its constructor. It is as if the variable was being declared with an `auto i = 0UL`. We can not drop the `auto` for variable declarations anywhere in C++, except in lambda capture brackets. This is because the capture brackets define all the parameters to be given to the constructor of the lambda: so it is a context where there can only be declarations. It was therefore formulated in this way."
   ]
  },
  {
   "cell_type": "code",
   "execution_count": 3,
   "id": "5884e24d",
   "metadata": {},
   "outputs": [
    {
     "name": "stdout",
     "output_type": "stream",
     "text": [
      "Outside Lambda, S= Some string\n",
      "Inside Lambda, S = 1\n",
      "Outside Lambda, S= Some string\n",
      "Inside Lambda, S = 2\n"
     ]
    },
    {
     "data": {
      "text/plain": []
     },
     "execution_count": 3,
     "metadata": {},
     "output_type": "execute_result"
    }
   ],
   "source": [
    "{\n",
    "    std::string S{\"Some string\"};\n",
    "    auto L = [S=1UL]()mutable { std::cout << \"Inside Lambda, S = \" << S << \"\\n\"; ++S; };\n",
    "    std::cout << \"Outside Lambda, S= \" << S << \"\\n\";\n",
    "    L();\n",
    "    std::cout << \"Outside Lambda, S= \" << S << \"\\n\";\n",
    "    L();\n",
    "    // You can understand the output by noting that despite the name S appearing in the capture\n",
    "    // bracket, the S was \"init captured\" from an unsigned long. It has no connection whatsoever\n",
    "    // with the variable S outside.\n",
    "}"
   ]
  },
  {
   "cell_type": "markdown",
   "id": "6135039c",
   "metadata": {},
   "source": [
    "A popular application for mutable lambdas is generator functions. The algorithm `std::generate` takes the bounds of a sequence and a callable object of no input parameters (expected to be called just as `func()` with no inputs). A similar algorithm, `std::generate_n` accepts the start of the sequence, the number of elements it contains and a callable object. The generate and assign values for the sequence elements by calling the callable object once for each of them. Here is an example. We initialize a vector to the squares of positive integers. "
   ]
  },
  {
   "cell_type": "code",
   "execution_count": 4,
   "id": "c9daa776",
   "metadata": {},
   "outputs": [
    {
     "name": "stdout",
     "output_type": "stream",
     "text": [
      " v = \n",
      "1\n",
      "4\n",
      "9\n",
      "16\n",
      "25\n",
      "36\n",
      "49\n",
      "64\n",
      "81\n",
      "100\n"
     ]
    },
    {
     "data": {
      "text/plain": []
     },
     "execution_count": 4,
     "metadata": {},
     "output_type": "execute_result"
    }
   ],
   "source": [
    "{\n",
    "    using namespace std;\n",
    "    vector<unsigned long> v, w;\n",
    "    generate_n(back_inserter(v), 10, [i = 0UL]() mutable {\n",
    "        ++i;\n",
    "        return i * i;\n",
    "    });\n",
    "    // v = [1, 4, 9, 16 ... ]\n",
    "    std::cout << \" v = \\n\";\n",
    "    for (auto el : v)\n",
    "        std::cout << el << \"\\n\";\n",
    "}"
   ]
  },
  {
   "cell_type": "markdown",
   "id": "f882cb25",
   "metadata": {},
   "source": [
    "And in the following we do the same, but initialize a vector with the first 50 Fibonacci numbers..."
   ]
  },
  {
   "cell_type": "code",
   "execution_count": 5,
   "id": "7cec5bf6",
   "metadata": {},
   "outputs": [
    {
     "name": "stdout",
     "output_type": "stream",
     "text": [
      " w = \n",
      "1\n",
      "1\n",
      "2\n",
      "3\n",
      "5\n",
      "8\n",
      "13\n",
      "21\n",
      "34\n",
      "55\n",
      "89\n",
      "144\n",
      "233\n",
      "377\n",
      "610\n",
      "987\n",
      "1597\n",
      "2584\n",
      "4181\n",
      "6765\n",
      "10946\n",
      "17711\n",
      "28657\n",
      "46368\n",
      "75025\n",
      "121393\n",
      "196418\n",
      "317811\n",
      "514229\n",
      "832040\n",
      "1346269\n",
      "2178309\n",
      "3524578\n",
      "5702887\n",
      "9227465\n",
      "14930352\n",
      "24157817\n",
      "39088169\n",
      "63245986\n",
      "102334155\n",
      "165580141\n",
      "267914296\n",
      "433494437\n",
      "701408733\n",
      "1134903170\n",
      "1836311903\n",
      "2971215073\n",
      "4807526976\n",
      "7778742049\n",
      "12586269025\n"
     ]
    },
    {
     "data": {
      "text/plain": []
     },
     "execution_count": 5,
     "metadata": {},
     "output_type": "execute_result"
    }
   ],
   "source": [
    "{\n",
    "    using namespace std;\n",
    "    vector<unsigned long> v, w;\n",
    "    generate_n(back_inserter(w), 50, [ i = 0UL, j = 1UL ]() mutable {\n",
    "        i = std::exchange(j, j + i);\n",
    "        return i;\n",
    "    });\n",
    "    // w = [1, 1, 2, 3, 5, 8, 11 ...]\n",
    "\n",
    "    std::cout << \" w = \\n\";\n",
    "    for (auto el : w)\n",
    "        std::cout << el << \"\\n\";\n",
    "}"
   ]
  }
 ],
 "metadata": {
  "kernelspec": {
   "display_name": "C++17",
   "language": "C++",
   "name": "cling-cpp17"
  },
  "language_info": {
   "codemirror_mode": "c++",
   "file_extension": ".c++",
   "mimetype": "text/x-c++src",
   "name": "c++"
  }
 },
 "nbformat": 4,
 "nbformat_minor": 5
}
